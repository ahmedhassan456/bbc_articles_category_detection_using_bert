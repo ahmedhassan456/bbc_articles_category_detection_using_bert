{
 "cells": [
  {
   "cell_type": "markdown",
   "metadata": {},
   "source": [
    "<div style=\"font-family: 'Arial', sans-serif; background-color: #f7f7f7; padding: 15px; border-radius: 8px;\">\n",
    "  <!-- Notebook Header Section -->\n",
    "  <div style=\"background-color: #b80000; color: white; padding: 20px; border-radius: 8px;\">\n",
    "    <h1 style=\"text-align: center; font-size: 2.5rem; font-weight: bold;\">📃Fine-Tuning BERT for BBC Articles Detection📃</h1>\n",
    "    <p style=\"text-align: center; font-size: 1.1rem;\">Created by <strong>Ahmed Saqr</strong> </p> \n",
    "  </div>\n",
    "</div>"
   ]
  },
  {
   "cell_type": "markdown",
   "metadata": {},
   "source": [
    "<img src=\"https://ichef.bbci.co.uk/news/1024/branded_news/11843/production/_130074717_bbcnewsfaqs.jpg\" alt=\"Paris\" style=\"display: block;\n",
    "  margin-left: auto;\n",
    "  margin-right: auto;\n",
    "  width: 80%;\"> "
   ]
  },
  {
   "cell_type": "markdown",
   "metadata": {},
   "source": [
    "<div style=\"font-family: Arial, Helvetica, sans-serif; background-color: #f7f7f7; padding: 15px; border-radius: 8px;\">\n",
    "    <!-- Introduction/Overview Section -->\n",
    "    <div style=\"background-color: #b80000; color: white; padding: 20px; border-radius: 8px;\">\n",
    "        <div style=\"margin-top: 30px;\">\n",
    "            <h2 aria-label=\"Dataset Overview\" style=\"font-size: 1.6rem;font-weight: bold;\">📊 Dataset Description</h2>\n",
    "            <p style=\"font-size: 1.2rem;\">\n",
    "                The dataset used in this project consists of BBC articles, aimed at categorizing various types of news content. The dataset includes a total of 2,225 rows and is organized into two main columns:\n",
    "            </p>\n",
    "            <ul style=\"font-size: 1.1rem;\">\n",
    "                <li><strong>text</strong> - This column contains the body of the BBC articles. Each row represents a unique article, providing a detailed textual description of the content covered. These articles encompass diverse topics ranging from current events to specialized subjects, enabling effective analysis and categorization.</li>\n",
    "                <li><strong>labels</strong> - This column holds the corresponding category for each article. Categories are predefined and indicate the topic or genre of the article. These labels serve as target variables for classification tasks, making this dataset suitable for training and evaluating machine learning models focused on text classification.</li>\n",
    "            </ul>\n",
    "            <p style=\"font-size: 1.2rem;\">\n",
    "                The structured format of the dataset—paired articles with their respective categories—provides an excellent foundation for exploring Natural Language Processing (NLP) techniques, enabling tasks such as supervised learning and category prediction.\n",
    "            </p>\n",
    "        </div>\n",
    "    </div>\n",
    "</div>"
   ]
  },
  {
   "cell_type": "markdown",
   "metadata": {},
   "source": [
    "<div style=\"font-family: 'Arial', sans-serif; background-color: #f7f7f7; padding: 5px; border-radius: 8px;\">\n",
    "  <!-- Notebook Header Section -->\n",
    "  <div style=\"background-color: #b80000; color: white; padding: 10px; border-radius: 8px;\">\n",
    "    <h1 style=\"text-align: center; font-size: 2rem; font-weight: bold;\">📥Import Necessary Libraries</h1>\n",
    "  </div>\n",
    "</div>"
   ]
  },
  {
   "cell_type": "code",
   "execution_count": null,
   "metadata": {
    "execution": {
     "iopub.execute_input": "2024-10-25T07:00:33.456274Z",
     "iopub.status.busy": "2024-10-25T07:00:33.455431Z",
     "iopub.status.idle": "2024-10-25T07:00:35.870509Z",
     "shell.execute_reply": "2024-10-25T07:00:35.869520Z",
     "shell.execute_reply.started": "2024-10-25T07:00:33.456209Z"
    },
    "trusted": true
   },
   "outputs": [],
   "source": [
    "import numpy as np\n",
    "import pandas as pd\n",
    "import matplotlib.pyplot as plt\n",
    "import seaborn as sns\n",
    "import plotly.express as px\n",
    "from wordcloud import WordCloud\n",
    "\n",
    "import warnings\n",
    "warnings.filterwarnings(\"ignore\")\n",
    "\n",
    "import re\n",
    "import spacy\n",
    "from spacy.lang.en.stop_words import STOP_WORDS\n",
    "import string\n",
    "import datasets\n",
    "import torch\n",
    "from sklearn.preprocessing import LabelEncoder\n",
    "from sklearn.metrics import classification_report, confusion_matrix, accuracy_score\n",
    "from transformers import (\n",
    "    AutoModelForSequenceClassification,\n",
    "    AutoTokenizer,\n",
    "    AutoConfig,\n",
    "    DataCollatorWithPadding,\n",
    "    TrainingArguments,\n",
    "    Trainer\n",
    ")\n",
    "from peft import PeftModel, PeftConfig, get_peft_model, LoraConfig\n",
    "import evaluate"
   ]
  },
  {
   "cell_type": "markdown",
   "metadata": {},
   "source": [
    "<div style=\"font-family: 'Arial', sans-serif; background-color: #f7f7f7; padding: 5px; border-radius: 8px;\">\n",
    "  <!-- Notebook Header Section -->\n",
    "  <div style=\"background-color: #b80000; color: white; padding: 10px; border-radius: 8px;\">\n",
    "    <h1 style=\"text-align: center; font-size: 2rem; font-weight: bold;\">🔄Load the Data</h1>\n",
    "  </div>\n",
    "</div>"
   ]
  },
  {
   "cell_type": "code",
   "execution_count": 2,
   "metadata": {
    "execution": {
     "iopub.execute_input": "2024-10-25T07:09:00.300980Z",
     "iopub.status.busy": "2024-10-25T07:09:00.300144Z",
     "iopub.status.idle": "2024-10-25T07:09:00.362624Z",
     "shell.execute_reply": "2024-10-25T07:09:00.361588Z",
     "shell.execute_reply.started": "2024-10-25T07:09:00.300939Z"
    },
    "trusted": true
   },
   "outputs": [],
   "source": [
    "df = pd.read_csv(\"data/bbc_text_cls.csv\")"
   ]
  },
  {
   "cell_type": "code",
   "execution_count": 3,
   "metadata": {
    "execution": {
     "iopub.execute_input": "2024-10-25T07:09:00.559674Z",
     "iopub.status.busy": "2024-10-25T07:09:00.559074Z",
     "iopub.status.idle": "2024-10-25T07:09:00.569302Z",
     "shell.execute_reply": "2024-10-25T07:09:00.568352Z",
     "shell.execute_reply.started": "2024-10-25T07:09:00.559634Z"
    },
    "trusted": true
   },
   "outputs": [
    {
     "data": {
      "text/html": [
       "<div>\n",
       "<style scoped>\n",
       "    .dataframe tbody tr th:only-of-type {\n",
       "        vertical-align: middle;\n",
       "    }\n",
       "\n",
       "    .dataframe tbody tr th {\n",
       "        vertical-align: top;\n",
       "    }\n",
       "\n",
       "    .dataframe thead th {\n",
       "        text-align: right;\n",
       "    }\n",
       "</style>\n",
       "<table border=\"1\" class=\"dataframe\">\n",
       "  <thead>\n",
       "    <tr style=\"text-align: right;\">\n",
       "      <th></th>\n",
       "      <th>text</th>\n",
       "      <th>labels</th>\n",
       "    </tr>\n",
       "  </thead>\n",
       "  <tbody>\n",
       "    <tr>\n",
       "      <th>0</th>\n",
       "      <td>Ad sales boost Time Warner profit\\n\\nQuarterly...</td>\n",
       "      <td>business</td>\n",
       "    </tr>\n",
       "    <tr>\n",
       "      <th>1</th>\n",
       "      <td>Dollar gains on Greenspan speech\\n\\nThe dollar...</td>\n",
       "      <td>business</td>\n",
       "    </tr>\n",
       "    <tr>\n",
       "      <th>2</th>\n",
       "      <td>Yukos unit buyer faces loan claim\\n\\nThe owner...</td>\n",
       "      <td>business</td>\n",
       "    </tr>\n",
       "    <tr>\n",
       "      <th>3</th>\n",
       "      <td>High fuel prices hit BA's profits\\n\\nBritish A...</td>\n",
       "      <td>business</td>\n",
       "    </tr>\n",
       "    <tr>\n",
       "      <th>4</th>\n",
       "      <td>Pernod takeover talk lifts Domecq\\n\\nShares in...</td>\n",
       "      <td>business</td>\n",
       "    </tr>\n",
       "  </tbody>\n",
       "</table>\n",
       "</div>"
      ],
      "text/plain": [
       "                                                text    labels\n",
       "0  Ad sales boost Time Warner profit\\n\\nQuarterly...  business\n",
       "1  Dollar gains on Greenspan speech\\n\\nThe dollar...  business\n",
       "2  Yukos unit buyer faces loan claim\\n\\nThe owner...  business\n",
       "3  High fuel prices hit BA's profits\\n\\nBritish A...  business\n",
       "4  Pernod takeover talk lifts Domecq\\n\\nShares in...  business"
      ]
     },
     "execution_count": 3,
     "metadata": {},
     "output_type": "execute_result"
    }
   ],
   "source": [
    "df.head()"
   ]
  },
  {
   "cell_type": "markdown",
   "metadata": {},
   "source": [
    "<div style=\"font-family: 'Arial', sans-serif; background-color: #f7f7f7; padding: 5px; border-radius: 8px;\">\n",
    "  <!-- Notebook Header Section -->\n",
    "  <div style=\"background-color: #b80000; color: white; padding: 10px; border-radius: 8px;\">\n",
    "    <h1 style=\"text-align: center; font-size: 2rem; font-weight: bold;\">🔎Check of Data</h1>\n",
    "  </div>\n",
    "</div>"
   ]
  },
  {
   "cell_type": "code",
   "execution_count": 4,
   "metadata": {
    "execution": {
     "iopub.execute_input": "2024-10-25T07:09:01.150767Z",
     "iopub.status.busy": "2024-10-25T07:09:01.150082Z",
     "iopub.status.idle": "2024-10-25T07:09:01.155771Z",
     "shell.execute_reply": "2024-10-25T07:09:01.154609Z",
     "shell.execute_reply.started": "2024-10-25T07:09:01.150726Z"
    },
    "trusted": true
   },
   "outputs": [
    {
     "name": "stdout",
     "output_type": "stream",
     "text": [
      "the shape of Data: (2225, 2)\n"
     ]
    }
   ],
   "source": [
    "print(f\"the shape of Data: {df.shape}\")"
   ]
  },
  {
   "cell_type": "code",
   "execution_count": 5,
   "metadata": {
    "execution": {
     "iopub.execute_input": "2024-10-25T07:09:01.380102Z",
     "iopub.status.busy": "2024-10-25T07:09:01.379739Z",
     "iopub.status.idle": "2024-10-25T07:09:01.391436Z",
     "shell.execute_reply": "2024-10-25T07:09:01.390293Z",
     "shell.execute_reply.started": "2024-10-25T07:09:01.380065Z"
    },
    "trusted": true
   },
   "outputs": [
    {
     "name": "stdout",
     "output_type": "stream",
     "text": [
      "<class 'pandas.core.frame.DataFrame'>\n",
      "RangeIndex: 2225 entries, 0 to 2224\n",
      "Data columns (total 2 columns):\n",
      " #   Column  Non-Null Count  Dtype \n",
      "---  ------  --------------  ----- \n",
      " 0   text    2225 non-null   object\n",
      " 1   labels  2225 non-null   object\n",
      "dtypes: object(2)\n",
      "memory usage: 34.9+ KB\n"
     ]
    }
   ],
   "source": [
    "df.info()"
   ]
  },
  {
   "cell_type": "code",
   "execution_count": 6,
   "metadata": {
    "execution": {
     "iopub.execute_input": "2024-10-25T07:09:01.656300Z",
     "iopub.status.busy": "2024-10-25T07:09:01.655963Z",
     "iopub.status.idle": "2024-10-25T07:09:01.665327Z",
     "shell.execute_reply": "2024-10-25T07:09:01.664352Z",
     "shell.execute_reply.started": "2024-10-25T07:09:01.656265Z"
    },
    "trusted": true
   },
   "outputs": [
    {
     "name": "stdout",
     "output_type": "stream",
     "text": [
      "Number of Missing values:\n"
     ]
    },
    {
     "data": {
      "text/plain": [
       "text      0\n",
       "labels    0\n",
       "dtype: int64"
      ]
     },
     "execution_count": 6,
     "metadata": {},
     "output_type": "execute_result"
    }
   ],
   "source": [
    "print(\"Number of Missing values:\")\n",
    "df.isnull().sum()"
   ]
  },
  {
   "cell_type": "code",
   "execution_count": 7,
   "metadata": {
    "execution": {
     "iopub.execute_input": "2024-10-25T07:09:01.915187Z",
     "iopub.status.busy": "2024-10-25T07:09:01.914810Z",
     "iopub.status.idle": "2024-10-25T07:09:01.933865Z",
     "shell.execute_reply": "2024-10-25T07:09:01.933092Z",
     "shell.execute_reply.started": "2024-10-25T07:09:01.915148Z"
    },
    "trusted": true
   },
   "outputs": [
    {
     "name": "stdout",
     "output_type": "stream",
     "text": [
      "Number of Duplicates: 98\n"
     ]
    }
   ],
   "source": [
    "print(f\"Number of Duplicates: {df.duplicated().sum()}\")"
   ]
  },
  {
   "cell_type": "code",
   "execution_count": 8,
   "metadata": {
    "execution": {
     "iopub.execute_input": "2024-10-25T07:09:02.112012Z",
     "iopub.status.busy": "2024-10-25T07:09:02.111382Z",
     "iopub.status.idle": "2024-10-25T07:09:02.127890Z",
     "shell.execute_reply": "2024-10-25T07:09:02.127094Z",
     "shell.execute_reply.started": "2024-10-25T07:09:02.111977Z"
    },
    "trusted": true
   },
   "outputs": [],
   "source": [
    "df.drop_duplicates(inplace=True)"
   ]
  },
  {
   "cell_type": "code",
   "execution_count": 9,
   "metadata": {
    "execution": {
     "iopub.execute_input": "2024-10-25T07:09:02.310642Z",
     "iopub.status.busy": "2024-10-25T07:09:02.309839Z",
     "iopub.status.idle": "2024-10-25T07:09:02.318310Z",
     "shell.execute_reply": "2024-10-25T07:09:02.317427Z",
     "shell.execute_reply.started": "2024-10-25T07:09:02.310604Z"
    },
    "trusted": true
   },
   "outputs": [
    {
     "data": {
      "text/plain": [
       "labels\n",
       "sport            505\n",
       "business         503\n",
       "politics         403\n",
       "entertainment    369\n",
       "tech             347\n",
       "Name: count, dtype: int64"
      ]
     },
     "execution_count": 9,
     "metadata": {},
     "output_type": "execute_result"
    }
   ],
   "source": [
    "df[\"labels\"].value_counts()"
   ]
  },
  {
   "cell_type": "markdown",
   "metadata": {},
   "source": [
    "<div style=\"font-family: 'Arial', sans-serif; background-color: #f7f7f7; padding: 5px; border-radius: 8px;\">\n",
    "  <!-- Notebook Header Section -->\n",
    "  <div style=\"background-color: #b80000; color: white; padding: 10px; border-radius: 8px;\">\n",
    "    <h1 style=\"text-align: center; font-size: 2rem; font-weight: bold;\">📊Exploratory Data Analysis</h1>\n",
    "  </div>\n",
    "</div>"
   ]
  },
  {
   "cell_type": "code",
   "execution_count": 10,
   "metadata": {
    "execution": {
     "iopub.execute_input": "2024-10-25T07:09:02.847864Z",
     "iopub.status.busy": "2024-10-25T07:09:02.846980Z",
     "iopub.status.idle": "2024-10-25T07:09:02.901316Z",
     "shell.execute_reply": "2024-10-25T07:09:02.900487Z",
     "shell.execute_reply.started": "2024-10-25T07:09:02.847826Z"
    },
    "trusted": true
   },
   "outputs": [
    {
     "data": {
      "application/vnd.plotly.v1+json": {
       "config": {
        "plotlyServerURL": "https://plot.ly"
       },
       "data": [
        {
         "domain": {
          "x": [
           0,
           1
          ],
          "y": [
           0,
           1
          ]
         },
         "hovertemplate": "label=%{label}<br>value=%{value}<extra></extra>",
         "labels": [
          "sport",
          "business",
          "politics",
          "entertainment",
          "tech"
         ],
         "legendgroup": "",
         "name": "",
         "showlegend": true,
         "textinfo": "percent+label",
         "textposition": "inside",
         "type": "pie",
         "values": [
          505,
          503,
          403,
          369,
          347
         ]
        }
       ],
       "layout": {
        "legend": {
         "tracegroupgap": 0
        },
        "template": {
         "data": {
          "bar": [
           {
            "error_x": {
             "color": "#2a3f5f"
            },
            "error_y": {
             "color": "#2a3f5f"
            },
            "marker": {
             "line": {
              "color": "#E5ECF6",
              "width": 0.5
             },
             "pattern": {
              "fillmode": "overlay",
              "size": 10,
              "solidity": 0.2
             }
            },
            "type": "bar"
           }
          ],
          "barpolar": [
           {
            "marker": {
             "line": {
              "color": "#E5ECF6",
              "width": 0.5
             },
             "pattern": {
              "fillmode": "overlay",
              "size": 10,
              "solidity": 0.2
             }
            },
            "type": "barpolar"
           }
          ],
          "carpet": [
           {
            "aaxis": {
             "endlinecolor": "#2a3f5f",
             "gridcolor": "white",
             "linecolor": "white",
             "minorgridcolor": "white",
             "startlinecolor": "#2a3f5f"
            },
            "baxis": {
             "endlinecolor": "#2a3f5f",
             "gridcolor": "white",
             "linecolor": "white",
             "minorgridcolor": "white",
             "startlinecolor": "#2a3f5f"
            },
            "type": "carpet"
           }
          ],
          "choropleth": [
           {
            "colorbar": {
             "outlinewidth": 0,
             "ticks": ""
            },
            "type": "choropleth"
           }
          ],
          "contour": [
           {
            "colorbar": {
             "outlinewidth": 0,
             "ticks": ""
            },
            "colorscale": [
             [
              0,
              "#0d0887"
             ],
             [
              0.1111111111111111,
              "#46039f"
             ],
             [
              0.2222222222222222,
              "#7201a8"
             ],
             [
              0.3333333333333333,
              "#9c179e"
             ],
             [
              0.4444444444444444,
              "#bd3786"
             ],
             [
              0.5555555555555556,
              "#d8576b"
             ],
             [
              0.6666666666666666,
              "#ed7953"
             ],
             [
              0.7777777777777778,
              "#fb9f3a"
             ],
             [
              0.8888888888888888,
              "#fdca26"
             ],
             [
              1,
              "#f0f921"
             ]
            ],
            "type": "contour"
           }
          ],
          "contourcarpet": [
           {
            "colorbar": {
             "outlinewidth": 0,
             "ticks": ""
            },
            "type": "contourcarpet"
           }
          ],
          "heatmap": [
           {
            "colorbar": {
             "outlinewidth": 0,
             "ticks": ""
            },
            "colorscale": [
             [
              0,
              "#0d0887"
             ],
             [
              0.1111111111111111,
              "#46039f"
             ],
             [
              0.2222222222222222,
              "#7201a8"
             ],
             [
              0.3333333333333333,
              "#9c179e"
             ],
             [
              0.4444444444444444,
              "#bd3786"
             ],
             [
              0.5555555555555556,
              "#d8576b"
             ],
             [
              0.6666666666666666,
              "#ed7953"
             ],
             [
              0.7777777777777778,
              "#fb9f3a"
             ],
             [
              0.8888888888888888,
              "#fdca26"
             ],
             [
              1,
              "#f0f921"
             ]
            ],
            "type": "heatmap"
           }
          ],
          "heatmapgl": [
           {
            "colorbar": {
             "outlinewidth": 0,
             "ticks": ""
            },
            "colorscale": [
             [
              0,
              "#0d0887"
             ],
             [
              0.1111111111111111,
              "#46039f"
             ],
             [
              0.2222222222222222,
              "#7201a8"
             ],
             [
              0.3333333333333333,
              "#9c179e"
             ],
             [
              0.4444444444444444,
              "#bd3786"
             ],
             [
              0.5555555555555556,
              "#d8576b"
             ],
             [
              0.6666666666666666,
              "#ed7953"
             ],
             [
              0.7777777777777778,
              "#fb9f3a"
             ],
             [
              0.8888888888888888,
              "#fdca26"
             ],
             [
              1,
              "#f0f921"
             ]
            ],
            "type": "heatmapgl"
           }
          ],
          "histogram": [
           {
            "marker": {
             "pattern": {
              "fillmode": "overlay",
              "size": 10,
              "solidity": 0.2
             }
            },
            "type": "histogram"
           }
          ],
          "histogram2d": [
           {
            "colorbar": {
             "outlinewidth": 0,
             "ticks": ""
            },
            "colorscale": [
             [
              0,
              "#0d0887"
             ],
             [
              0.1111111111111111,
              "#46039f"
             ],
             [
              0.2222222222222222,
              "#7201a8"
             ],
             [
              0.3333333333333333,
              "#9c179e"
             ],
             [
              0.4444444444444444,
              "#bd3786"
             ],
             [
              0.5555555555555556,
              "#d8576b"
             ],
             [
              0.6666666666666666,
              "#ed7953"
             ],
             [
              0.7777777777777778,
              "#fb9f3a"
             ],
             [
              0.8888888888888888,
              "#fdca26"
             ],
             [
              1,
              "#f0f921"
             ]
            ],
            "type": "histogram2d"
           }
          ],
          "histogram2dcontour": [
           {
            "colorbar": {
             "outlinewidth": 0,
             "ticks": ""
            },
            "colorscale": [
             [
              0,
              "#0d0887"
             ],
             [
              0.1111111111111111,
              "#46039f"
             ],
             [
              0.2222222222222222,
              "#7201a8"
             ],
             [
              0.3333333333333333,
              "#9c179e"
             ],
             [
              0.4444444444444444,
              "#bd3786"
             ],
             [
              0.5555555555555556,
              "#d8576b"
             ],
             [
              0.6666666666666666,
              "#ed7953"
             ],
             [
              0.7777777777777778,
              "#fb9f3a"
             ],
             [
              0.8888888888888888,
              "#fdca26"
             ],
             [
              1,
              "#f0f921"
             ]
            ],
            "type": "histogram2dcontour"
           }
          ],
          "mesh3d": [
           {
            "colorbar": {
             "outlinewidth": 0,
             "ticks": ""
            },
            "type": "mesh3d"
           }
          ],
          "parcoords": [
           {
            "line": {
             "colorbar": {
              "outlinewidth": 0,
              "ticks": ""
             }
            },
            "type": "parcoords"
           }
          ],
          "pie": [
           {
            "automargin": true,
            "type": "pie"
           }
          ],
          "scatter": [
           {
            "fillpattern": {
             "fillmode": "overlay",
             "size": 10,
             "solidity": 0.2
            },
            "type": "scatter"
           }
          ],
          "scatter3d": [
           {
            "line": {
             "colorbar": {
              "outlinewidth": 0,
              "ticks": ""
             }
            },
            "marker": {
             "colorbar": {
              "outlinewidth": 0,
              "ticks": ""
             }
            },
            "type": "scatter3d"
           }
          ],
          "scattercarpet": [
           {
            "marker": {
             "colorbar": {
              "outlinewidth": 0,
              "ticks": ""
             }
            },
            "type": "scattercarpet"
           }
          ],
          "scattergeo": [
           {
            "marker": {
             "colorbar": {
              "outlinewidth": 0,
              "ticks": ""
             }
            },
            "type": "scattergeo"
           }
          ],
          "scattergl": [
           {
            "marker": {
             "colorbar": {
              "outlinewidth": 0,
              "ticks": ""
             }
            },
            "type": "scattergl"
           }
          ],
          "scattermapbox": [
           {
            "marker": {
             "colorbar": {
              "outlinewidth": 0,
              "ticks": ""
             }
            },
            "type": "scattermapbox"
           }
          ],
          "scatterpolar": [
           {
            "marker": {
             "colorbar": {
              "outlinewidth": 0,
              "ticks": ""
             }
            },
            "type": "scatterpolar"
           }
          ],
          "scatterpolargl": [
           {
            "marker": {
             "colorbar": {
              "outlinewidth": 0,
              "ticks": ""
             }
            },
            "type": "scatterpolargl"
           }
          ],
          "scatterternary": [
           {
            "marker": {
             "colorbar": {
              "outlinewidth": 0,
              "ticks": ""
             }
            },
            "type": "scatterternary"
           }
          ],
          "surface": [
           {
            "colorbar": {
             "outlinewidth": 0,
             "ticks": ""
            },
            "colorscale": [
             [
              0,
              "#0d0887"
             ],
             [
              0.1111111111111111,
              "#46039f"
             ],
             [
              0.2222222222222222,
              "#7201a8"
             ],
             [
              0.3333333333333333,
              "#9c179e"
             ],
             [
              0.4444444444444444,
              "#bd3786"
             ],
             [
              0.5555555555555556,
              "#d8576b"
             ],
             [
              0.6666666666666666,
              "#ed7953"
             ],
             [
              0.7777777777777778,
              "#fb9f3a"
             ],
             [
              0.8888888888888888,
              "#fdca26"
             ],
             [
              1,
              "#f0f921"
             ]
            ],
            "type": "surface"
           }
          ],
          "table": [
           {
            "cells": {
             "fill": {
              "color": "#EBF0F8"
             },
             "line": {
              "color": "white"
             }
            },
            "header": {
             "fill": {
              "color": "#C8D4E3"
             },
             "line": {
              "color": "white"
             }
            },
            "type": "table"
           }
          ]
         },
         "layout": {
          "annotationdefaults": {
           "arrowcolor": "#2a3f5f",
           "arrowhead": 0,
           "arrowwidth": 1
          },
          "autotypenumbers": "strict",
          "coloraxis": {
           "colorbar": {
            "outlinewidth": 0,
            "ticks": ""
           }
          },
          "colorscale": {
           "diverging": [
            [
             0,
             "#8e0152"
            ],
            [
             0.1,
             "#c51b7d"
            ],
            [
             0.2,
             "#de77ae"
            ],
            [
             0.3,
             "#f1b6da"
            ],
            [
             0.4,
             "#fde0ef"
            ],
            [
             0.5,
             "#f7f7f7"
            ],
            [
             0.6,
             "#e6f5d0"
            ],
            [
             0.7,
             "#b8e186"
            ],
            [
             0.8,
             "#7fbc41"
            ],
            [
             0.9,
             "#4d9221"
            ],
            [
             1,
             "#276419"
            ]
           ],
           "sequential": [
            [
             0,
             "#0d0887"
            ],
            [
             0.1111111111111111,
             "#46039f"
            ],
            [
             0.2222222222222222,
             "#7201a8"
            ],
            [
             0.3333333333333333,
             "#9c179e"
            ],
            [
             0.4444444444444444,
             "#bd3786"
            ],
            [
             0.5555555555555556,
             "#d8576b"
            ],
            [
             0.6666666666666666,
             "#ed7953"
            ],
            [
             0.7777777777777778,
             "#fb9f3a"
            ],
            [
             0.8888888888888888,
             "#fdca26"
            ],
            [
             1,
             "#f0f921"
            ]
           ],
           "sequentialminus": [
            [
             0,
             "#0d0887"
            ],
            [
             0.1111111111111111,
             "#46039f"
            ],
            [
             0.2222222222222222,
             "#7201a8"
            ],
            [
             0.3333333333333333,
             "#9c179e"
            ],
            [
             0.4444444444444444,
             "#bd3786"
            ],
            [
             0.5555555555555556,
             "#d8576b"
            ],
            [
             0.6666666666666666,
             "#ed7953"
            ],
            [
             0.7777777777777778,
             "#fb9f3a"
            ],
            [
             0.8888888888888888,
             "#fdca26"
            ],
            [
             1,
             "#f0f921"
            ]
           ]
          },
          "colorway": [
           "#636efa",
           "#EF553B",
           "#00cc96",
           "#ab63fa",
           "#FFA15A",
           "#19d3f3",
           "#FF6692",
           "#B6E880",
           "#FF97FF",
           "#FECB52"
          ],
          "font": {
           "color": "#2a3f5f"
          },
          "geo": {
           "bgcolor": "white",
           "lakecolor": "white",
           "landcolor": "#E5ECF6",
           "showlakes": true,
           "showland": true,
           "subunitcolor": "white"
          },
          "hoverlabel": {
           "align": "left"
          },
          "hovermode": "closest",
          "mapbox": {
           "style": "light"
          },
          "paper_bgcolor": "white",
          "plot_bgcolor": "#E5ECF6",
          "polar": {
           "angularaxis": {
            "gridcolor": "white",
            "linecolor": "white",
            "ticks": ""
           },
           "bgcolor": "#E5ECF6",
           "radialaxis": {
            "gridcolor": "white",
            "linecolor": "white",
            "ticks": ""
           }
          },
          "scene": {
           "xaxis": {
            "backgroundcolor": "#E5ECF6",
            "gridcolor": "white",
            "gridwidth": 2,
            "linecolor": "white",
            "showbackground": true,
            "ticks": "",
            "zerolinecolor": "white"
           },
           "yaxis": {
            "backgroundcolor": "#E5ECF6",
            "gridcolor": "white",
            "gridwidth": 2,
            "linecolor": "white",
            "showbackground": true,
            "ticks": "",
            "zerolinecolor": "white"
           },
           "zaxis": {
            "backgroundcolor": "#E5ECF6",
            "gridcolor": "white",
            "gridwidth": 2,
            "linecolor": "white",
            "showbackground": true,
            "ticks": "",
            "zerolinecolor": "white"
           }
          },
          "shapedefaults": {
           "line": {
            "color": "#2a3f5f"
           }
          },
          "ternary": {
           "aaxis": {
            "gridcolor": "white",
            "linecolor": "white",
            "ticks": ""
           },
           "baxis": {
            "gridcolor": "white",
            "linecolor": "white",
            "ticks": ""
           },
           "bgcolor": "#E5ECF6",
           "caxis": {
            "gridcolor": "white",
            "linecolor": "white",
            "ticks": ""
           }
          },
          "title": {
           "x": 0.05
          },
          "xaxis": {
           "automargin": true,
           "gridcolor": "white",
           "linecolor": "white",
           "ticks": "",
           "title": {
            "standoff": 15
           },
           "zerolinecolor": "white",
           "zerolinewidth": 2
          },
          "yaxis": {
           "automargin": true,
           "gridcolor": "white",
           "linecolor": "white",
           "ticks": "",
           "title": {
            "standoff": 15
           },
           "zerolinecolor": "white",
           "zerolinewidth": 2
          }
         }
        },
        "title": {
         "text": "Labels Distribution"
        }
       }
      }
     },
     "metadata": {},
     "output_type": "display_data"
    }
   ],
   "source": [
    "labels_count = df[\"labels\"].value_counts()\n",
    "\n",
    "fig = px.pie(names=labels_count.index, values=labels_count.values, \n",
    "             labels=labels_count.index, title=\"Labels Distribution\")\n",
    "\n",
    "fig.update_traces(textposition=\"inside\", textinfo=\"percent+label\")"
   ]
  },
  {
   "cell_type": "code",
   "execution_count": 11,
   "metadata": {
    "execution": {
     "iopub.execute_input": "2024-10-25T07:09:03.083981Z",
     "iopub.status.busy": "2024-10-25T07:09:03.083460Z",
     "iopub.status.idle": "2024-10-25T07:09:03.166586Z",
     "shell.execute_reply": "2024-10-25T07:09:03.165697Z",
     "shell.execute_reply.started": "2024-10-25T07:09:03.083944Z"
    },
    "trusted": true
   },
   "outputs": [
    {
     "data": {
      "application/vnd.plotly.v1+json": {
       "config": {
        "plotlyServerURL": "https://plot.ly"
       },
       "data": [
        {
         "alignmentgroup": "True",
         "bingroup": "x",
         "hovertemplate": "labels=business<br>text_len=%{x}<br>count=%{y}<extra></extra>",
         "legendgroup": "business",
         "marker": {
          "color": "rgb(127, 60, 141)",
          "pattern": {
           "shape": ""
          }
         },
         "name": "business",
         "offsetgroup": "business",
         "orientation": "v",
         "showlegend": true,
         "type": "histogram",
         "x": [
          2558,
          2251,
          1550,
          2400,
          1568,
          1186,
          1668,
          1921,
          1493,
          1447,
          1142,
          1845,
          1828,
          2979,
          3805,
          1392,
          1297,
          1001,
          1731,
          3853,
          2040,
          1932,
          1266,
          1951,
          2702,
          1828,
          1618,
          1248,
          2491,
          2486,
          1887,
          1732,
          1346,
          1778,
          1212,
          2129,
          2461,
          928,
          1250,
          1352,
          2015,
          1394,
          1201,
          2488,
          1801,
          1827,
          1564,
          1666,
          3541,
          1915,
          1781,
          2989,
          1371,
          1437,
          2050,
          1476,
          2627,
          1201,
          1867,
          913,
          1544,
          1897,
          1746,
          1767,
          2111,
          2017,
          1872,
          2576,
          3155,
          1172,
          1286,
          1616,
          1541,
          1532,
          1232,
          1744,
          2669,
          1464,
          1557,
          1281,
          1527,
          1219,
          3047,
          1326,
          1432,
          1169,
          1843,
          1202,
          2188,
          2362,
          1895,
          2262,
          1928,
          1225,
          1566,
          929,
          2633,
          1340,
          2478,
          2058,
          2143,
          1412,
          2806,
          2292,
          1294,
          1761,
          1872,
          1072,
          847,
          1635,
          3202,
          1788,
          2382,
          2074,
          1248,
          1504,
          2610,
          1374,
          2804,
          1860,
          3025,
          2409,
          1104,
          1017,
          1411,
          2149,
          2844,
          1822,
          1039,
          2516,
          2758,
          1283,
          1804,
          2147,
          2384,
          3265,
          1278,
          1768,
          1949,
          2598,
          1494,
          2046,
          1554,
          911,
          1584,
          5153,
          1268,
          1475,
          3493,
          2247,
          1666,
          1859,
          2296,
          2168,
          1641,
          1703,
          1597,
          899,
          3869,
          2123,
          2346,
          1795,
          2618,
          2446,
          2174,
          1536,
          1315,
          1349,
          1053,
          1332,
          1282,
          2515,
          2194,
          1633,
          1320,
          1781,
          2085,
          1630,
          1260,
          2081,
          2773,
          1620,
          4602,
          1990,
          1890,
          1292,
          1858,
          2406,
          2444,
          1916,
          2867,
          2279,
          1792,
          1103,
          2524,
          1807,
          1648,
          1657,
          2141,
          3795,
          1762,
          2152,
          1757,
          2940,
          1623,
          1864,
          2002,
          1761,
          2725,
          2196,
          1596,
          1696,
          2600,
          1710,
          3216,
          2176,
          3061,
          1228,
          1542,
          2033,
          1816,
          2837,
          1552,
          3149,
          1378,
          1796,
          1204,
          1327,
          2586,
          1443,
          2020,
          1617,
          906,
          1035,
          1290,
          2385,
          1091,
          1900,
          1381,
          4471,
          3582,
          5140,
          2881,
          4943,
          2366,
          1538,
          1871,
          3650,
          1658,
          1862,
          3703,
          1803,
          1119,
          1240,
          2553,
          2599,
          1433,
          2982,
          4612,
          3429,
          2027,
          2449,
          1840,
          4436,
          1172,
          4605,
          2532,
          2859,
          2716,
          2357,
          2856,
          1607,
          1821,
          1033,
          5205,
          1160,
          2515,
          1046,
          1180,
          1951,
          993,
          4491,
          1513,
          2142,
          5356,
          1417,
          1985,
          3128,
          2682,
          2195,
          2257,
          3013,
          1930,
          3113,
          1608,
          1595,
          2933,
          1166,
          1070,
          1330,
          1977,
          1647,
          1491,
          1194,
          2624,
          1895,
          1386,
          1392,
          1288,
          1687,
          1548,
          4462,
          1631,
          2124,
          2186,
          2482,
          1912,
          1650,
          911,
          892,
          2721,
          2435,
          1656,
          2465,
          1852,
          1301,
          1986,
          5216,
          1757,
          3389,
          1593,
          1583,
          2373,
          2117,
          1470,
          1731,
          1996,
          1474,
          2105,
          859,
          2544,
          2661,
          4043,
          1551,
          3077,
          2130,
          1166,
          1266,
          885,
          5407,
          3326,
          1102,
          1708,
          2690,
          2008,
          1392,
          1513,
          1514,
          1581,
          1318,
          1172,
          2541,
          1971,
          1683,
          1149,
          1313,
          945,
          1051,
          1686,
          1705,
          1947,
          878,
          1339,
          1358,
          1424,
          1369,
          1806,
          1824,
          2005,
          1117,
          1930,
          2085,
          1762,
          1636,
          1430,
          2187,
          2152,
          1981,
          1006,
          1549,
          881,
          2135,
          1548,
          3352,
          2107,
          1835,
          1810,
          2313,
          1574,
          2854,
          2901,
          1517,
          921,
          3994,
          1066,
          1528,
          2043,
          2673,
          2191,
          2322,
          1598,
          852,
          1415,
          1445,
          2295,
          1348,
          1499,
          2178,
          1477,
          2495,
          1783,
          3412,
          1712,
          2400,
          1044,
          1104,
          1012,
          3564,
          2617,
          1759,
          2744,
          3126,
          1376,
          2420,
          1922,
          1974,
          1236,
          1690,
          2176,
          1858,
          1342,
          2432,
          3016,
          2426,
          1875,
          2014,
          1916,
          2719,
          2362,
          1209,
          2372,
          2171,
          2088,
          2013,
          1838,
          1729,
          1050,
          1370,
          1325,
          1836,
          1230,
          1751,
          2027,
          863,
          3018,
          2942,
          963,
          1199,
          1794,
          1304,
          1461,
          1715,
          2208,
          1015,
          2162,
          3096,
          1148,
          1275,
          1500,
          1819,
          4389,
          1884,
          1748,
          1923,
          2125,
          942,
          2138,
          3105,
          1108,
          1818,
          3000,
          1380,
          1163,
          3458,
          1271,
          1306,
          2714,
          1484,
          1623,
          2837,
          1400,
          2617,
          889
         ],
         "xaxis": "x",
         "yaxis": "y"
        },
        {
         "alignmentgroup": "True",
         "bingroup": "x",
         "hovertemplate": "labels=entertainment<br>text_len=%{x}<br>count=%{y}<extra></extra>",
         "legendgroup": "entertainment",
         "marker": {
          "color": "rgb(17, 165, 121)",
          "pattern": {
           "shape": ""
          }
         },
         "name": "entertainment",
         "offsetgroup": "entertainment",
         "orientation": "v",
         "showlegend": true,
         "type": "histogram",
         "x": [
          1149,
          1581,
          1079,
          1252,
          1144,
          1413,
          2128,
          1806,
          1971,
          1939,
          1245,
          2105,
          2867,
          1421,
          1651,
          3780,
          1572,
          1450,
          934,
          1561,
          2659,
          3386,
          1786,
          2130,
          1744,
          2265,
          1688,
          1576,
          1737,
          1352,
          1525,
          3093,
          1846,
          1922,
          1602,
          1352,
          1554,
          1979,
          2148,
          1663,
          1294,
          1220,
          2074,
          1703,
          1416,
          1269,
          1414,
          2120,
          1593,
          1604,
          1964,
          1252,
          1556,
          1677,
          1693,
          1881,
          1495,
          1371,
          1615,
          1043,
          4177,
          1550,
          1984,
          3261,
          951,
          1823,
          1501,
          1379,
          1969,
          1395,
          1632,
          2012,
          1231,
          1580,
          2197,
          1369,
          1898,
          1951,
          1268,
          1518,
          1860,
          979,
          1316,
          2322,
          1895,
          1025,
          877,
          1820,
          1162,
          867,
          1367,
          2443,
          3198,
          1691,
          1889,
          1254,
          1419,
          1809,
          1945,
          1337,
          2316,
          1201,
          1478,
          1163,
          1077,
          2133,
          1385,
          1476,
          1393,
          986,
          1413,
          1479,
          1532,
          1353,
          1642,
          1459,
          1361,
          3310,
          1787,
          4217,
          1634,
          1333,
          1446,
          1171,
          1237,
          1448,
          2002,
          7537,
          2297,
          2398,
          1272,
          1209,
          1393,
          1690,
          1713,
          1079,
          1329,
          3756,
          3159,
          2228,
          1125,
          1557,
          1456,
          2635,
          1953,
          1177,
          1587,
          1653,
          3433,
          1152,
          1231,
          1460,
          824,
          2048,
          1124,
          2200,
          1411,
          1246,
          1206,
          1050,
          1824,
          2093,
          1999,
          1366,
          1059,
          1537,
          1400,
          1496,
          1115,
          1455,
          1449,
          949,
          1391,
          1170,
          1296,
          3525,
          2296,
          1527,
          2173,
          1408,
          975,
          1267,
          1265,
          1165,
          1996,
          2369,
          1542,
          2941,
          1460,
          1354,
          1465,
          2577,
          1064,
          1456,
          1037,
          3288,
          2428,
          3000,
          1467,
          1341,
          1649,
          1782,
          1310,
          1135,
          1502,
          946,
          1495,
          3478,
          2892,
          1496,
          1178,
          1184,
          1544,
          1367,
          1648,
          2518,
          1010,
          1527,
          1344,
          1660,
          1645,
          1278,
          1837,
          3133,
          1103,
          2305,
          1134,
          1118,
          1796,
          3240,
          1285,
          1567,
          2821,
          1406,
          1305,
          1058,
          1161,
          3970,
          2519,
          1227,
          1385,
          2847,
          861,
          2096,
          1293,
          19137,
          2195,
          3073,
          12913,
          1764,
          2078,
          3237,
          1118,
          4809,
          3400,
          3293,
          1573,
          1142,
          1495,
          2217,
          1615,
          1134,
          3033,
          1038,
          3925,
          2125,
          1447,
          1444,
          1805,
          4496,
          1416,
          2493,
          1323,
          3113,
          1274,
          1357,
          1649,
          1978,
          2259,
          1118,
          2408,
          1740,
          1498,
          2183,
          1316,
          1547,
          1300,
          1559,
          1446,
          2997,
          1772,
          955,
          2513,
          1358,
          4214,
          3577,
          1875,
          1012,
          1014,
          2164,
          1690,
          1590,
          6099,
          1625,
          3091,
          1033,
          968,
          1960,
          1155,
          2205,
          1398,
          3026,
          1313,
          2696,
          3800,
          1845,
          1467,
          1302,
          1227,
          1074,
          1572,
          2296,
          1445,
          1257,
          1361,
          1337,
          1311,
          1032,
          953,
          1395,
          1832,
          2227,
          1376,
          1376,
          1842,
          2790,
          13620,
          3414,
          2930,
          3291,
          2529,
          1105,
          1509,
          1640,
          1748,
          2604,
          1200,
          1184,
          1994,
          3605,
          5786,
          2766,
          1555,
          1392,
          3717,
          2820,
          1335,
          2987,
          1813,
          1643,
          2236,
          1183,
          1127,
          1225,
          1250,
          1343,
          1581,
          1496,
          1544
         ],
         "xaxis": "x",
         "yaxis": "y"
        },
        {
         "alignmentgroup": "True",
         "bingroup": "x",
         "hovertemplate": "labels=politics<br>text_len=%{x}<br>count=%{y}<extra></extra>",
         "legendgroup": "politics",
         "marker": {
          "color": "rgb(57, 105, 172)",
          "pattern": {
           "shape": ""
          }
         },
         "name": "politics",
         "offsetgroup": "politics",
         "orientation": "v",
         "showlegend": true,
         "type": "histogram",
         "x": [
          2597,
          2325,
          3108,
          1470,
          2859,
          2005,
          2987,
          3116,
          3197,
          1176,
          1646,
          2518,
          3269,
          2769,
          1014,
          1504,
          994,
          1614,
          3707,
          3314,
          2857,
          2520,
          2077,
          1498,
          1481,
          1461,
          4021,
          1419,
          2539,
          2283,
          2841,
          2105,
          2779,
          2646,
          1412,
          2357,
          1289,
          1929,
          3148,
          3419,
          3849,
          3198,
          1430,
          1335,
          1643,
          2563,
          2978,
          3268,
          2761,
          4126,
          2395,
          2612,
          3253,
          1453,
          3173,
          3107,
          1302,
          2243,
          3000,
          2498,
          1877,
          3456,
          1505,
          1852,
          2663,
          3094,
          3535,
          3387,
          2284,
          3156,
          1722,
          3154,
          2238,
          1267,
          2553,
          2487,
          1455,
          3978,
          2912,
          3102,
          2001,
          3102,
          1568,
          1554,
          3115,
          2381,
          3720,
          3301,
          3578,
          1730,
          1103,
          2449,
          1583,
          3009,
          2621,
          2136,
          2966,
          2130,
          2628,
          3531,
          3445,
          2687,
          2272,
          2846,
          3243,
          2907,
          2081,
          1060,
          1908,
          2843,
          5425,
          2170,
          1756,
          1772,
          3448,
          3019,
          1537,
          2496,
          2797,
          2254,
          3245,
          3392,
          958,
          3507,
          2213,
          2681,
          3624,
          3700,
          1377,
          2634,
          2160,
          1958,
          1684,
          2637,
          3512,
          2803,
          3513,
          2469,
          1844,
          1367,
          3152,
          3212,
          2603,
          1225,
          981,
          2249,
          2780,
          2661,
          2436,
          1454,
          2711,
          2845,
          2522,
          2872,
          2692,
          2551,
          2971,
          1574,
          3093,
          3134,
          1825,
          1926,
          1464,
          1784,
          2937,
          2157,
          2718,
          3771,
          2422,
          2705,
          1471,
          2461,
          2493,
          4109,
          2379,
          3203,
          2880,
          1284,
          2729,
          3070,
          2409,
          3387,
          2114,
          3367,
          2435,
          2671,
          2315,
          1227,
          3194,
          1589,
          1351,
          3513,
          3070,
          1627,
          1940,
          2603,
          1865,
          2812,
          2644,
          2568,
          1981,
          2709,
          2523,
          2600,
          2631,
          1447,
          1485,
          1792,
          2113,
          3055,
          3144,
          930,
          3527,
          2927,
          4059,
          2219,
          1684,
          3633,
          2931,
          2727,
          2958,
          1878,
          1917,
          3549,
          2388,
          1785,
          2917,
          1779,
          2919,
          2974,
          2438,
          1932,
          1996,
          3501,
          1033,
          962,
          956,
          2172,
          2482,
          2253,
          3389,
          2769,
          1219,
          2887,
          3017,
          3527,
          1579,
          1707,
          811,
          6633,
          4333,
          3252,
          4439,
          3583,
          3353,
          3353,
          3568,
          4144,
          3084,
          3303,
          2894,
          4685,
          3530,
          2139,
          1836,
          4882,
          3166,
          1045,
          2946,
          3304,
          3180,
          2475,
          2153,
          2510,
          2778,
          1773,
          1930,
          2919,
          1920,
          2883,
          3428,
          2903,
          3741,
          2222,
          1939,
          2505,
          25484,
          3875,
          13828,
          1878,
          1930,
          1838,
          2610,
          2009,
          3051,
          2654,
          3536,
          955,
          3184,
          2203,
          1790,
          1141,
          1441,
          2272,
          2373,
          1575,
          4210,
          2525,
          2733,
          1844,
          2825,
          3275,
          2742,
          1491,
          3630,
          1786,
          2449,
          4255,
          3836,
          935,
          1478,
          2947,
          2556,
          2603,
          2558,
          2343,
          4560,
          3377,
          2603,
          3189,
          3451,
          966,
          3365,
          2021,
          2146,
          2846,
          2868,
          3842,
          2674,
          2912,
          5089,
          1717,
          2909,
          1997,
          1655,
          2938,
          3122,
          3426,
          2231,
          2411,
          2147,
          2993,
          2847,
          2968,
          2305,
          3325,
          2231,
          3080,
          4045,
          2384,
          4115,
          1483,
          1707,
          3424,
          2972,
          18388,
          1055,
          3165,
          3111,
          3521,
          1960,
          2694,
          2636,
          3109,
          3474,
          3538,
          1059,
          1931,
          4450,
          2655,
          2898,
          4162,
          502,
          864,
          3297,
          3887,
          1487,
          1647,
          2860,
          1556,
          3247,
          5671,
          2710,
          3535,
          1666,
          1575,
          4897,
          1413,
          1151,
          3104,
          1507,
          1732,
          2835
         ],
         "xaxis": "x",
         "yaxis": "y"
        },
        {
         "alignmentgroup": "True",
         "bingroup": "x",
         "hovertemplate": "labels=sport<br>text_len=%{x}<br>count=%{y}<extra></extra>",
         "legendgroup": "sport",
         "marker": {
          "color": "rgb(242, 183, 1)",
          "pattern": {
           "shape": ""
          }
         },
         "name": "sport",
         "offsetgroup": "sport",
         "orientation": "v",
         "showlegend": true,
         "type": "histogram",
         "x": [
          1237,
          901,
          2044,
          1124,
          938,
          810,
          742,
          1286,
          2233,
          1439,
          1138,
          1299,
          1856,
          2795,
          881,
          1552,
          1548,
          1461,
          814,
          1563,
          1252,
          2541,
          1004,
          1638,
          939,
          990,
          1810,
          858,
          4254,
          839,
          1208,
          1584,
          5103,
          1899,
          1327,
          1634,
          2035,
          999,
          4280,
          1247,
          1286,
          3055,
          1535,
          1837,
          1170,
          1644,
          2619,
          2851,
          1570,
          1658,
          805,
          928,
          1838,
          1415,
          849,
          4391,
          4981,
          3639,
          2207,
          3883,
          1405,
          1613,
          1223,
          1566,
          4799,
          983,
          4022,
          4718,
          3711,
          1184,
          3131,
          1010,
          774,
          2898,
          1297,
          805,
          1000,
          1454,
          1311,
          2169,
          2373,
          769,
          786,
          1026,
          1074,
          2859,
          1701,
          1975,
          1851,
          858,
          4190,
          1263,
          3226,
          1454,
          2423,
          783,
          1373,
          2038,
          3638,
          2016,
          968,
          3687,
          3681,
          3412,
          2610,
          2965,
          2639,
          1217,
          2588,
          7314,
          1406,
          1675,
          3564,
          831,
          1198,
          6085,
          2748,
          1111,
          7323,
          1756,
          1330,
          1718,
          1672,
          2311,
          910,
          1384,
          1396,
          778,
          1409,
          1388,
          1916,
          1797,
          991,
          881,
          1990,
          1370,
          3121,
          2234,
          884,
          2187,
          858,
          1168,
          1640,
          2822,
          1935,
          954,
          1520,
          1732,
          1270,
          2522,
          1299,
          1726,
          1709,
          1643,
          1703,
          2119,
          1379,
          3034,
          1044,
          825,
          3137,
          1224,
          1053,
          1832,
          770,
          1425,
          1579,
          2201,
          776,
          1772,
          850,
          984,
          787,
          1725,
          1563,
          1356,
          3628,
          3782,
          2911,
          2912,
          1673,
          1348,
          1348,
          1754,
          1186,
          1798,
          1720,
          1601,
          725,
          2324,
          1346,
          853,
          2239,
          1657,
          1819,
          1294,
          2651,
          1621,
          1530,
          1185,
          728,
          1351,
          2177,
          1371,
          2308,
          2498,
          1870,
          3399,
          1871,
          2419,
          1113,
          819,
          1559,
          3641,
          1877,
          4540,
          1546,
          761,
          1133,
          2206,
          2175,
          893,
          828,
          1397,
          2954,
          2295,
          863,
          1084,
          2463,
          2534,
          1995,
          1279,
          4435,
          1754,
          1181,
          1197,
          833,
          2999,
          1022,
          1375,
          2348,
          1338,
          1786,
          3343,
          1788,
          2027,
          720,
          1893,
          3327,
          1092,
          1877,
          2352,
          741,
          1538,
          1074,
          2805,
          874,
          764,
          943,
          1952,
          1209,
          900,
          1874,
          3458,
          2634,
          1462,
          956,
          1498,
          1586,
          2110,
          1413,
          1711,
          1180,
          2509,
          757,
          1095,
          1402,
          891,
          2674,
          2200,
          2258,
          1390,
          2107,
          1226,
          2140,
          2379,
          1970,
          1272,
          1957,
          2385,
          1537,
          942,
          1065,
          1091,
          2481,
          1736,
          1212,
          2869,
          2515,
          1337,
          938,
          1655,
          2039,
          3365,
          2227,
          2522,
          3550,
          4223,
          3328,
          2880,
          1641,
          1894,
          878,
          1517,
          786,
          2314,
          1327,
          2416,
          3010,
          937,
          812,
          1603,
          2524,
          2615,
          2626,
          2821,
          3031,
          2239,
          2423,
          1660,
          1283,
          2164,
          1928,
          2553,
          1826,
          2607,
          1240,
          1966,
          1537,
          2239,
          1698,
          1256,
          1769,
          1690,
          2132,
          1194,
          1380,
          1726,
          1539,
          2914,
          1701,
          901,
          1422,
          2660,
          2134,
          1347,
          1690,
          1291,
          1734,
          4517,
          2013,
          1934,
          2242,
          4333,
          1279,
          1871,
          9472,
          1552,
          2513,
          1501,
          4418,
          2368,
          3759,
          2132,
          2430,
          2389,
          1321,
          2459,
          3415,
          2363,
          2920,
          1704,
          2922,
          984,
          1220,
          975,
          2951,
          1140,
          1016,
          1107,
          3847,
          1990,
          2373,
          1344,
          1701,
          1815,
          3633,
          1440,
          3428,
          3707,
          4256,
          2137,
          2775,
          2093,
          1936,
          1370,
          1834,
          3073,
          3965,
          2414,
          4222,
          1310,
          1112,
          1231,
          1761,
          1885,
          910,
          2311,
          1409,
          1796,
          1786,
          1136,
          1055,
          1206,
          1602,
          1590,
          1438,
          1801,
          1053,
          1692,
          1493,
          1437,
          1315,
          981,
          922,
          943,
          882,
          803,
          1578,
          2803,
          1749,
          2533,
          2742,
          1666,
          1220,
          894,
          924,
          812,
          1526,
          932,
          770,
          1219,
          1038,
          959,
          1766,
          1170,
          893,
          2377,
          1797,
          2334,
          785,
          2249,
          2413,
          2410,
          790,
          1987,
          2356,
          2196,
          1229,
          5273,
          1980,
          1292,
          1295,
          2698,
          1593,
          983,
          1954,
          1013,
          783,
          2379,
          1223,
          2096,
          2213,
          2222,
          7765,
          1390,
          3366,
          1122,
          4006,
          1513,
          1419,
          759,
          1075,
          2359,
          770,
          1848,
          1586,
          756,
          784,
          756,
          1370,
          775,
          1148,
          1773,
          1173
         ],
         "xaxis": "x",
         "yaxis": "y"
        },
        {
         "alignmentgroup": "True",
         "bingroup": "x",
         "hovertemplate": "labels=tech<br>text_len=%{x}<br>count=%{y}<extra></extra>",
         "legendgroup": "tech",
         "marker": {
          "color": "rgb(231, 63, 116)",
          "pattern": {
           "shape": ""
          }
         },
         "name": "tech",
         "offsetgroup": "tech",
         "orientation": "v",
         "showlegend": true,
         "type": "histogram",
         "x": [
          4043,
          2207,
          1329,
          2577,
          4899,
          3930,
          1740,
          1734,
          7122,
          2938,
          3374,
          1549,
          3072,
          1745,
          1700,
          3963,
          2950,
          2209,
          2875,
          2801,
          1988,
          1792,
          2341,
          1601,
          1053,
          2658,
          3129,
          2687,
          2259,
          1807,
          5219,
          5103,
          2094,
          3396,
          2556,
          1525,
          2074,
          1299,
          3243,
          2879,
          1545,
          2161,
          2130,
          1487,
          2105,
          1832,
          2235,
          2800,
          2551,
          2173,
          2574,
          2597,
          1533,
          1531,
          3527,
          1378,
          2026,
          3920,
          1733,
          2489,
          2481,
          3854,
          1944,
          3070,
          3563,
          2379,
          3270,
          1804,
          4172,
          5396,
          3344,
          2788,
          1676,
          2032,
          3719,
          2005,
          2637,
          1731,
          2866,
          2899,
          2892,
          2959,
          2310,
          2936,
          3840,
          2984,
          2187,
          4042,
          2224,
          2542,
          4391,
          5102,
          5145,
          1847,
          2777,
          2497,
          4319,
          2071,
          2071,
          4353,
          3581,
          2897,
          2533,
          3953,
          1942,
          3646,
          2199,
          5811,
          1748,
          1855,
          3356,
          2675,
          2503,
          1927,
          1734,
          1987,
          2209,
          3030,
          2202,
          4042,
          3484,
          2153,
          3864,
          1840,
          2083,
          1535,
          2526,
          2591,
          2454,
          1691,
          3316,
          3497,
          5050,
          1856,
          5490,
          3719,
          4351,
          2831,
          2284,
          4610,
          3038,
          4469,
          3060,
          2376,
          2451,
          2098,
          1381,
          2032,
          3751,
          2044,
          3282,
          5708,
          4611,
          4123,
          3163,
          2378,
          1845,
          5012,
          4206,
          5183,
          2197,
          2750,
          3291,
          1766,
          3244,
          2086,
          4526,
          5096,
          2439,
          2593,
          1564,
          1594,
          2122,
          4373,
          3291,
          2125,
          3790,
          7801,
          3048,
          1914,
          3705,
          2320,
          3865,
          2175,
          3496,
          2613,
          2150,
          5089,
          4776,
          2297,
          2487,
          2888,
          2697,
          2275,
          2277,
          4021,
          1798,
          3713,
          1464,
          3180,
          3206,
          3619,
          3511,
          2292,
          4334,
          2479,
          3124,
          1935,
          3164,
          2143,
          4205,
          3098,
          1936,
          3632,
          2284,
          3833,
          5102,
          1945,
          2757,
          1356,
          3886,
          3931,
          2376,
          1430,
          1004,
          1349,
          3795,
          1419,
          1417,
          2846,
          2990,
          4152,
          2315,
          1640,
          1582,
          1995,
          2078,
          2730,
          2269,
          1580,
          1927,
          2784,
          1724,
          1630,
          2005,
          2503,
          2981,
          1293,
          2576,
          4679,
          2129,
          1985,
          3277,
          3458,
          2466,
          4283,
          1703,
          1647,
          2625,
          2233,
          2964,
          3241,
          3587,
          2755,
          2390,
          3350,
          4570,
          3378,
          4329,
          974,
          4418,
          4952,
          1944,
          4704,
          1930,
          4614,
          4693,
          5888,
          3979,
          4289,
          4054,
          4808,
          5291,
          3693,
          4737,
          2876,
          2498,
          3777,
          1952,
          2883,
          1529,
          5055,
          4442,
          4213,
          3853,
          2811,
          1490,
          2236,
          2046,
          1625,
          1516,
          2383,
          4209,
          2589,
          4792,
          2962,
          2201,
          1523,
          2921,
          5124,
          2448,
          3019,
          3113,
          5854,
          2323,
          4732,
          3042,
          2848,
          2467,
          5742,
          2407,
          4746,
          3019,
          2790,
          2323,
          3996,
          3859,
          1950,
          2995,
          3420,
          8827,
          1792,
          4105,
          3835,
          1882,
          4520,
          3896,
          2146,
          4953,
          2036,
          4894,
          4913,
          6086,
          2517,
          6281,
          2314,
          16159
         ],
         "xaxis": "x",
         "yaxis": "y"
        }
       ],
       "layout": {
        "barmode": "stack",
        "legend": {
         "title": {
          "text": "labels"
         },
         "tracegroupgap": 0
        },
        "template": {
         "data": {
          "bar": [
           {
            "error_x": {
             "color": "#2a3f5f"
            },
            "error_y": {
             "color": "#2a3f5f"
            },
            "marker": {
             "line": {
              "color": "#E5ECF6",
              "width": 0.5
             },
             "pattern": {
              "fillmode": "overlay",
              "size": 10,
              "solidity": 0.2
             }
            },
            "type": "bar"
           }
          ],
          "barpolar": [
           {
            "marker": {
             "line": {
              "color": "#E5ECF6",
              "width": 0.5
             },
             "pattern": {
              "fillmode": "overlay",
              "size": 10,
              "solidity": 0.2
             }
            },
            "type": "barpolar"
           }
          ],
          "carpet": [
           {
            "aaxis": {
             "endlinecolor": "#2a3f5f",
             "gridcolor": "white",
             "linecolor": "white",
             "minorgridcolor": "white",
             "startlinecolor": "#2a3f5f"
            },
            "baxis": {
             "endlinecolor": "#2a3f5f",
             "gridcolor": "white",
             "linecolor": "white",
             "minorgridcolor": "white",
             "startlinecolor": "#2a3f5f"
            },
            "type": "carpet"
           }
          ],
          "choropleth": [
           {
            "colorbar": {
             "outlinewidth": 0,
             "ticks": ""
            },
            "type": "choropleth"
           }
          ],
          "contour": [
           {
            "colorbar": {
             "outlinewidth": 0,
             "ticks": ""
            },
            "colorscale": [
             [
              0,
              "#0d0887"
             ],
             [
              0.1111111111111111,
              "#46039f"
             ],
             [
              0.2222222222222222,
              "#7201a8"
             ],
             [
              0.3333333333333333,
              "#9c179e"
             ],
             [
              0.4444444444444444,
              "#bd3786"
             ],
             [
              0.5555555555555556,
              "#d8576b"
             ],
             [
              0.6666666666666666,
              "#ed7953"
             ],
             [
              0.7777777777777778,
              "#fb9f3a"
             ],
             [
              0.8888888888888888,
              "#fdca26"
             ],
             [
              1,
              "#f0f921"
             ]
            ],
            "type": "contour"
           }
          ],
          "contourcarpet": [
           {
            "colorbar": {
             "outlinewidth": 0,
             "ticks": ""
            },
            "type": "contourcarpet"
           }
          ],
          "heatmap": [
           {
            "colorbar": {
             "outlinewidth": 0,
             "ticks": ""
            },
            "colorscale": [
             [
              0,
              "#0d0887"
             ],
             [
              0.1111111111111111,
              "#46039f"
             ],
             [
              0.2222222222222222,
              "#7201a8"
             ],
             [
              0.3333333333333333,
              "#9c179e"
             ],
             [
              0.4444444444444444,
              "#bd3786"
             ],
             [
              0.5555555555555556,
              "#d8576b"
             ],
             [
              0.6666666666666666,
              "#ed7953"
             ],
             [
              0.7777777777777778,
              "#fb9f3a"
             ],
             [
              0.8888888888888888,
              "#fdca26"
             ],
             [
              1,
              "#f0f921"
             ]
            ],
            "type": "heatmap"
           }
          ],
          "heatmapgl": [
           {
            "colorbar": {
             "outlinewidth": 0,
             "ticks": ""
            },
            "colorscale": [
             [
              0,
              "#0d0887"
             ],
             [
              0.1111111111111111,
              "#46039f"
             ],
             [
              0.2222222222222222,
              "#7201a8"
             ],
             [
              0.3333333333333333,
              "#9c179e"
             ],
             [
              0.4444444444444444,
              "#bd3786"
             ],
             [
              0.5555555555555556,
              "#d8576b"
             ],
             [
              0.6666666666666666,
              "#ed7953"
             ],
             [
              0.7777777777777778,
              "#fb9f3a"
             ],
             [
              0.8888888888888888,
              "#fdca26"
             ],
             [
              1,
              "#f0f921"
             ]
            ],
            "type": "heatmapgl"
           }
          ],
          "histogram": [
           {
            "marker": {
             "pattern": {
              "fillmode": "overlay",
              "size": 10,
              "solidity": 0.2
             }
            },
            "type": "histogram"
           }
          ],
          "histogram2d": [
           {
            "colorbar": {
             "outlinewidth": 0,
             "ticks": ""
            },
            "colorscale": [
             [
              0,
              "#0d0887"
             ],
             [
              0.1111111111111111,
              "#46039f"
             ],
             [
              0.2222222222222222,
              "#7201a8"
             ],
             [
              0.3333333333333333,
              "#9c179e"
             ],
             [
              0.4444444444444444,
              "#bd3786"
             ],
             [
              0.5555555555555556,
              "#d8576b"
             ],
             [
              0.6666666666666666,
              "#ed7953"
             ],
             [
              0.7777777777777778,
              "#fb9f3a"
             ],
             [
              0.8888888888888888,
              "#fdca26"
             ],
             [
              1,
              "#f0f921"
             ]
            ],
            "type": "histogram2d"
           }
          ],
          "histogram2dcontour": [
           {
            "colorbar": {
             "outlinewidth": 0,
             "ticks": ""
            },
            "colorscale": [
             [
              0,
              "#0d0887"
             ],
             [
              0.1111111111111111,
              "#46039f"
             ],
             [
              0.2222222222222222,
              "#7201a8"
             ],
             [
              0.3333333333333333,
              "#9c179e"
             ],
             [
              0.4444444444444444,
              "#bd3786"
             ],
             [
              0.5555555555555556,
              "#d8576b"
             ],
             [
              0.6666666666666666,
              "#ed7953"
             ],
             [
              0.7777777777777778,
              "#fb9f3a"
             ],
             [
              0.8888888888888888,
              "#fdca26"
             ],
             [
              1,
              "#f0f921"
             ]
            ],
            "type": "histogram2dcontour"
           }
          ],
          "mesh3d": [
           {
            "colorbar": {
             "outlinewidth": 0,
             "ticks": ""
            },
            "type": "mesh3d"
           }
          ],
          "parcoords": [
           {
            "line": {
             "colorbar": {
              "outlinewidth": 0,
              "ticks": ""
             }
            },
            "type": "parcoords"
           }
          ],
          "pie": [
           {
            "automargin": true,
            "type": "pie"
           }
          ],
          "scatter": [
           {
            "fillpattern": {
             "fillmode": "overlay",
             "size": 10,
             "solidity": 0.2
            },
            "type": "scatter"
           }
          ],
          "scatter3d": [
           {
            "line": {
             "colorbar": {
              "outlinewidth": 0,
              "ticks": ""
             }
            },
            "marker": {
             "colorbar": {
              "outlinewidth": 0,
              "ticks": ""
             }
            },
            "type": "scatter3d"
           }
          ],
          "scattercarpet": [
           {
            "marker": {
             "colorbar": {
              "outlinewidth": 0,
              "ticks": ""
             }
            },
            "type": "scattercarpet"
           }
          ],
          "scattergeo": [
           {
            "marker": {
             "colorbar": {
              "outlinewidth": 0,
              "ticks": ""
             }
            },
            "type": "scattergeo"
           }
          ],
          "scattergl": [
           {
            "marker": {
             "colorbar": {
              "outlinewidth": 0,
              "ticks": ""
             }
            },
            "type": "scattergl"
           }
          ],
          "scattermapbox": [
           {
            "marker": {
             "colorbar": {
              "outlinewidth": 0,
              "ticks": ""
             }
            },
            "type": "scattermapbox"
           }
          ],
          "scatterpolar": [
           {
            "marker": {
             "colorbar": {
              "outlinewidth": 0,
              "ticks": ""
             }
            },
            "type": "scatterpolar"
           }
          ],
          "scatterpolargl": [
           {
            "marker": {
             "colorbar": {
              "outlinewidth": 0,
              "ticks": ""
             }
            },
            "type": "scatterpolargl"
           }
          ],
          "scatterternary": [
           {
            "marker": {
             "colorbar": {
              "outlinewidth": 0,
              "ticks": ""
             }
            },
            "type": "scatterternary"
           }
          ],
          "surface": [
           {
            "colorbar": {
             "outlinewidth": 0,
             "ticks": ""
            },
            "colorscale": [
             [
              0,
              "#0d0887"
             ],
             [
              0.1111111111111111,
              "#46039f"
             ],
             [
              0.2222222222222222,
              "#7201a8"
             ],
             [
              0.3333333333333333,
              "#9c179e"
             ],
             [
              0.4444444444444444,
              "#bd3786"
             ],
             [
              0.5555555555555556,
              "#d8576b"
             ],
             [
              0.6666666666666666,
              "#ed7953"
             ],
             [
              0.7777777777777778,
              "#fb9f3a"
             ],
             [
              0.8888888888888888,
              "#fdca26"
             ],
             [
              1,
              "#f0f921"
             ]
            ],
            "type": "surface"
           }
          ],
          "table": [
           {
            "cells": {
             "fill": {
              "color": "#EBF0F8"
             },
             "line": {
              "color": "white"
             }
            },
            "header": {
             "fill": {
              "color": "#C8D4E3"
             },
             "line": {
              "color": "white"
             }
            },
            "type": "table"
           }
          ]
         },
         "layout": {
          "annotationdefaults": {
           "arrowcolor": "#2a3f5f",
           "arrowhead": 0,
           "arrowwidth": 1
          },
          "autotypenumbers": "strict",
          "coloraxis": {
           "colorbar": {
            "outlinewidth": 0,
            "ticks": ""
           }
          },
          "colorscale": {
           "diverging": [
            [
             0,
             "#8e0152"
            ],
            [
             0.1,
             "#c51b7d"
            ],
            [
             0.2,
             "#de77ae"
            ],
            [
             0.3,
             "#f1b6da"
            ],
            [
             0.4,
             "#fde0ef"
            ],
            [
             0.5,
             "#f7f7f7"
            ],
            [
             0.6,
             "#e6f5d0"
            ],
            [
             0.7,
             "#b8e186"
            ],
            [
             0.8,
             "#7fbc41"
            ],
            [
             0.9,
             "#4d9221"
            ],
            [
             1,
             "#276419"
            ]
           ],
           "sequential": [
            [
             0,
             "#0d0887"
            ],
            [
             0.1111111111111111,
             "#46039f"
            ],
            [
             0.2222222222222222,
             "#7201a8"
            ],
            [
             0.3333333333333333,
             "#9c179e"
            ],
            [
             0.4444444444444444,
             "#bd3786"
            ],
            [
             0.5555555555555556,
             "#d8576b"
            ],
            [
             0.6666666666666666,
             "#ed7953"
            ],
            [
             0.7777777777777778,
             "#fb9f3a"
            ],
            [
             0.8888888888888888,
             "#fdca26"
            ],
            [
             1,
             "#f0f921"
            ]
           ],
           "sequentialminus": [
            [
             0,
             "#0d0887"
            ],
            [
             0.1111111111111111,
             "#46039f"
            ],
            [
             0.2222222222222222,
             "#7201a8"
            ],
            [
             0.3333333333333333,
             "#9c179e"
            ],
            [
             0.4444444444444444,
             "#bd3786"
            ],
            [
             0.5555555555555556,
             "#d8576b"
            ],
            [
             0.6666666666666666,
             "#ed7953"
            ],
            [
             0.7777777777777778,
             "#fb9f3a"
            ],
            [
             0.8888888888888888,
             "#fdca26"
            ],
            [
             1,
             "#f0f921"
            ]
           ]
          },
          "colorway": [
           "#636efa",
           "#EF553B",
           "#00cc96",
           "#ab63fa",
           "#FFA15A",
           "#19d3f3",
           "#FF6692",
           "#B6E880",
           "#FF97FF",
           "#FECB52"
          ],
          "font": {
           "color": "#2a3f5f"
          },
          "geo": {
           "bgcolor": "white",
           "lakecolor": "white",
           "landcolor": "#E5ECF6",
           "showlakes": true,
           "showland": true,
           "subunitcolor": "white"
          },
          "hoverlabel": {
           "align": "left"
          },
          "hovermode": "closest",
          "mapbox": {
           "style": "light"
          },
          "paper_bgcolor": "white",
          "plot_bgcolor": "#E5ECF6",
          "polar": {
           "angularaxis": {
            "gridcolor": "white",
            "linecolor": "white",
            "ticks": ""
           },
           "bgcolor": "#E5ECF6",
           "radialaxis": {
            "gridcolor": "white",
            "linecolor": "white",
            "ticks": ""
           }
          },
          "scene": {
           "xaxis": {
            "backgroundcolor": "#E5ECF6",
            "gridcolor": "white",
            "gridwidth": 2,
            "linecolor": "white",
            "showbackground": true,
            "ticks": "",
            "zerolinecolor": "white"
           },
           "yaxis": {
            "backgroundcolor": "#E5ECF6",
            "gridcolor": "white",
            "gridwidth": 2,
            "linecolor": "white",
            "showbackground": true,
            "ticks": "",
            "zerolinecolor": "white"
           },
           "zaxis": {
            "backgroundcolor": "#E5ECF6",
            "gridcolor": "white",
            "gridwidth": 2,
            "linecolor": "white",
            "showbackground": true,
            "ticks": "",
            "zerolinecolor": "white"
           }
          },
          "shapedefaults": {
           "line": {
            "color": "#2a3f5f"
           }
          },
          "ternary": {
           "aaxis": {
            "gridcolor": "white",
            "linecolor": "white",
            "ticks": ""
           },
           "baxis": {
            "gridcolor": "white",
            "linecolor": "white",
            "ticks": ""
           },
           "bgcolor": "#E5ECF6",
           "caxis": {
            "gridcolor": "white",
            "linecolor": "white",
            "ticks": ""
           }
          },
          "title": {
           "x": 0.05
          },
          "xaxis": {
           "automargin": true,
           "gridcolor": "white",
           "linecolor": "white",
           "ticks": "",
           "title": {
            "standoff": 15
           },
           "zerolinecolor": "white",
           "zerolinewidth": 2
          },
          "yaxis": {
           "automargin": true,
           "gridcolor": "white",
           "linecolor": "white",
           "ticks": "",
           "title": {
            "standoff": 15
           },
           "zerolinecolor": "white",
           "zerolinewidth": 2
          }
         }
        },
        "title": {
         "text": "Text Length per Label"
        },
        "xaxis": {
         "anchor": "y",
         "domain": [
          0,
          1
         ],
         "title": {
          "text": "Text Length"
         }
        },
        "yaxis": {
         "anchor": "x",
         "domain": [
          0,
          1
         ],
         "title": {
          "text": "count"
         }
        }
       }
      }
     },
     "metadata": {},
     "output_type": "display_data"
    }
   ],
   "source": [
    "df[\"text_len\"] = df[\"text\"].apply(len)\n",
    "\n",
    "fig = px.histogram(df, x=\"text_len\", color=\"labels\", title=\"Text Length per Label\",\n",
    "                   barmode='stack', color_discrete_sequence=px.colors.qualitative.Bold)\n",
    "\n",
    "fig.update_layout(xaxis_title=\"Text Length\")\n",
    "fig.show()"
   ]
  },
  {
   "cell_type": "code",
   "execution_count": 12,
   "metadata": {
    "execution": {
     "iopub.execute_input": "2024-10-25T07:09:03.666665Z",
     "iopub.status.busy": "2024-10-25T07:09:03.665839Z",
     "iopub.status.idle": "2024-10-25T07:09:08.293382Z",
     "shell.execute_reply": "2024-10-25T07:09:08.292390Z",
     "shell.execute_reply.started": "2024-10-25T07:09:03.666622Z"
    },
    "trusted": true
   },
   "outputs": [
    {
     "data": {
      "image/png": "[encoded data removed]",
      "text/plain": [
       "<Figure size 1400x1000 with 1 Axes>"
      ]
     },
     "metadata": {},
     "output_type": "display_data"
    }
   ],
   "source": [
    "text = \" \".join(df[\"text\"])\n",
    "text_wordcloud = WordCloud(width=800, height=400, background_color='white', colormap='viridis').generate(text)\n",
    "\n",
    "plt.figure(figsize=(14, 10))\n",
    "plt.imshow(text_wordcloud, interpolation='bilinear')\n",
    "plt.axis('off')\n",
    "plt.title('WordCloud for Labels', fontsize=16)\n",
    "plt.show()"
   ]
  },
  {
   "cell_type": "markdown",
   "metadata": {},
   "source": [
    "<div style=\"font-family: 'Arial', sans-serif; background-color: #f7f7f7; padding: 5px; border-radius: 8px;\">\n",
    "  <!-- Notebook Header Section -->\n",
    "  <div style=\"background-color: #b80000; color: white; padding: 10px; border-radius: 8px;\">\n",
    "    <h1 style=\"text-align: center; font-size: 2rem; font-weight: bold;\">🔬Outlier Treatment</h1>\n",
    "  </div>\n",
    "</div>"
   ]
  },
  {
   "cell_type": "code",
   "execution_count": 13,
   "metadata": {
    "execution": {
     "iopub.execute_input": "2024-10-25T07:09:08.295575Z",
     "iopub.status.busy": "2024-10-25T07:09:08.295258Z",
     "iopub.status.idle": "2024-10-25T07:09:08.303624Z",
     "shell.execute_reply": "2024-10-25T07:09:08.302643Z",
     "shell.execute_reply.started": "2024-10-25T07:09:08.295541Z"
    },
    "trusted": true
   },
   "outputs": [
    {
     "data": {
      "text/plain": [
       "(2107, 3)"
      ]
     },
     "execution_count": 13,
     "metadata": {},
     "output_type": "execute_result"
    }
   ],
   "source": [
    "df = df[df[\"text_len\"] <= 6000]\n",
    "\n",
    "df.shape"
   ]
  },
  {
   "cell_type": "code",
   "execution_count": 14,
   "metadata": {
    "execution": {
     "iopub.execute_input": "2024-10-25T07:09:08.305135Z",
     "iopub.status.busy": "2024-10-25T07:09:08.304793Z",
     "iopub.status.idle": "2024-10-25T07:09:08.396209Z",
     "shell.execute_reply": "2024-10-25T07:09:08.395397Z",
     "shell.execute_reply.started": "2024-10-25T07:09:08.305101Z"
    },
    "trusted": true
   },
   "outputs": [
    {
     "data": {
      "application/vnd.plotly.v1+json": {
       "config": {
        "plotlyServerURL": "https://plot.ly"
       },
       "data": [
        {
         "alignmentgroup": "True",
         "bingroup": "x",
         "hovertemplate": "labels=business<br>text_len=%{x}<br>count=%{y}<extra></extra>",
         "legendgroup": "business",
         "marker": {
          "color": "rgb(127, 60, 141)",
          "pattern": {
           "shape": ""
          }
         },
         "name": "business",
         "offsetgroup": "business",
         "orientation": "v",
         "showlegend": true,
         "type": "histogram",
         "x": [
          2558,
          2251,
          1550,
          2400,
          1568,
          1186,
          1668,
          1921,
          1493,
          1447,
          1142,
          1845,
          1828,
          2979,
          3805,
          1392,
          1297,
          1001,
          1731,
          3853,
          2040,
          1932,
          1266,
          1951,
          2702,
          1828,
          1618,
          1248,
          2491,
          2486,
          1887,
          1732,
          1346,
          1778,
          1212,
          2129,
          2461,
          928,
          1250,
          1352,
          2015,
          1394,
          1201,
          2488,
          1801,
          1827,
          1564,
          1666,
          3541,
          1915,
          1781,
          2989,
          1371,
          1437,
          2050,
          1476,
          2627,
          1201,
          1867,
          913,
          1544,
          1897,
          1746,
          1767,
          2111,
          2017,
          1872,
          2576,
          3155,
          1172,
          1286,
          1616,
          1541,
          1532,
          1232,
          1744,
          2669,
          1464,
          1557,
          1281,
          1527,
          1219,
          3047,
          1326,
          1432,
          1169,
          1843,
          1202,
          2188,
          2362,
          1895,
          2262,
          1928,
          1225,
          1566,
          929,
          2633,
          1340,
          2478,
          2058,
          2143,
          1412,
          2806,
          2292,
          1294,
          1761,
          1872,
          1072,
          847,
          1635,
          3202,
          1788,
          2382,
          2074,
          1248,
          1504,
          2610,
          1374,
          2804,
          1860,
          3025,
          2409,
          1104,
          1017,
          1411,
          2149,
          2844,
          1822,
          1039,
          2516,
          2758,
          1283,
          1804,
          2147,
          2384,
          3265,
          1278,
          1768,
          1949,
          2598,
          1494,
          2046,
          1554,
          911,
          1584,
          5153,
          1268,
          1475,
          3493,
          2247,
          1666,
          1859,
          2296,
          2168,
          1641,
          1703,
          1597,
          899,
          3869,
          2123,
          2346,
          1795,
          2618,
          2446,
          2174,
          1536,
          1315,
          1349,
          1053,
          1332,
          1282,
          2515,
          2194,
          1633,
          1320,
          1781,
          2085,
          1630,
          1260,
          2081,
          2773,
          1620,
          4602,
          1990,
          1890,
          1292,
          1858,
          2406,
          2444,
          1916,
          2867,
          2279,
          1792,
          1103,
          2524,
          1807,
          1648,
          1657,
          2141,
          3795,
          1762,
          2152,
          1757,
          2940,
          1623,
          1864,
          2002,
          1761,
          2725,
          2196,
          1596,
          1696,
          2600,
          1710,
          3216,
          2176,
          3061,
          1228,
          1542,
          2033,
          1816,
          2837,
          1552,
          3149,
          1378,
          1796,
          1204,
          1327,
          2586,
          1443,
          2020,
          1617,
          906,
          1035,
          1290,
          2385,
          1091,
          1900,
          1381,
          4471,
          3582,
          5140,
          2881,
          4943,
          2366,
          1538,
          1871,
          3650,
          1658,
          1862,
          3703,
          1803,
          1119,
          1240,
          2553,
          2599,
          1433,
          2982,
          4612,
          3429,
          2027,
          2449,
          1840,
          4436,
          1172,
          4605,
          2532,
          2859,
          2716,
          2357,
          2856,
          1607,
          1821,
          1033,
          5205,
          1160,
          2515,
          1046,
          1180,
          1951,
          993,
          4491,
          1513,
          2142,
          5356,
          1417,
          1985,
          3128,
          2682,
          2195,
          2257,
          3013,
          1930,
          3113,
          1608,
          1595,
          2933,
          1166,
          1070,
          1330,
          1977,
          1647,
          1491,
          1194,
          2624,
          1895,
          1386,
          1392,
          1288,
          1687,
          1548,
          4462,
          1631,
          2124,
          2186,
          2482,
          1912,
          1650,
          911,
          892,
          2721,
          2435,
          1656,
          2465,
          1852,
          1301,
          1986,
          5216,
          1757,
          3389,
          1593,
          1583,
          2373,
          2117,
          1470,
          1731,
          1996,
          1474,
          2105,
          859,
          2544,
          2661,
          4043,
          1551,
          3077,
          2130,
          1166,
          1266,
          885,
          5407,
          3326,
          1102,
          1708,
          2690,
          2008,
          1392,
          1513,
          1514,
          1581,
          1318,
          1172,
          2541,
          1971,
          1683,
          1149,
          1313,
          945,
          1051,
          1686,
          1705,
          1947,
          878,
          1339,
          1358,
          1424,
          1369,
          1806,
          1824,
          2005,
          1117,
          1930,
          2085,
          1762,
          1636,
          1430,
          2187,
          2152,
          1981,
          1006,
          1549,
          881,
          2135,
          1548,
          3352,
          2107,
          1835,
          1810,
          2313,
          1574,
          2854,
          2901,
          1517,
          921,
          3994,
          1066,
          1528,
          2043,
          2673,
          2191,
          2322,
          1598,
          852,
          1415,
          1445,
          2295,
          1348,
          1499,
          2178,
          1477,
          2495,
          1783,
          3412,
          1712,
          2400,
          1044,
          1104,
          1012,
          3564,
          2617,
          1759,
          2744,
          3126,
          1376,
          2420,
          1922,
          1974,
          1236,
          1690,
          2176,
          1858,
          1342,
          2432,
          3016,
          2426,
          1875,
          2014,
          1916,
          2719,
          2362,
          1209,
          2372,
          2171,
          2088,
          2013,
          1838,
          1729,
          1050,
          1370,
          1325,
          1836,
          1230,
          1751,
          2027,
          863,
          3018,
          2942,
          963,
          1199,
          1794,
          1304,
          1461,
          1715,
          2208,
          1015,
          2162,
          3096,
          1148,
          1275,
          1500,
          1819,
          4389,
          1884,
          1748,
          1923,
          2125,
          942,
          2138,
          3105,
          1108,
          1818,
          3000,
          1380,
          1163,
          3458,
          1271,
          1306,
          2714,
          1484,
          1623,
          2837,
          1400,
          2617,
          889
         ],
         "xaxis": "x",
         "yaxis": "y"
        },
        {
         "alignmentgroup": "True",
         "bingroup": "x",
         "hovertemplate": "labels=entertainment<br>text_len=%{x}<br>count=%{y}<extra></extra>",
         "legendgroup": "entertainment",
         "marker": {
          "color": "rgb(17, 165, 121)",
          "pattern": {
           "shape": ""
          }
         },
         "name": "entertainment",
         "offsetgroup": "entertainment",
         "orientation": "v",
         "showlegend": true,
         "type": "histogram",
         "x": [
          1149,
          1581,
          1079,
          1252,
          1144,
          1413,
          2128,
          1806,
          1971,
          1939,
          1245,
          2105,
          2867,
          1421,
          1651,
          3780,
          1572,
          1450,
          934,
          1561,
          2659,
          3386,
          1786,
          2130,
          1744,
          2265,
          1688,
          1576,
          1737,
          1352,
          1525,
          3093,
          1846,
          1922,
          1602,
          1352,
          1554,
          1979,
          2148,
          1663,
          1294,
          1220,
          2074,
          1703,
          1416,
          1269,
          1414,
          2120,
          1593,
          1604,
          1964,
          1252,
          1556,
          1677,
          1693,
          1881,
          1495,
          1371,
          1615,
          1043,
          4177,
          1550,
          1984,
          3261,
          951,
          1823,
          1501,
          1379,
          1969,
          1395,
          1632,
          2012,
          1231,
          1580,
          2197,
          1369,
          1898,
          1951,
          1268,
          1518,
          1860,
          979,
          1316,
          2322,
          1895,
          1025,
          877,
          1820,
          1162,
          867,
          1367,
          2443,
          3198,
          1691,
          1889,
          1254,
          1419,
          1809,
          1945,
          1337,
          2316,
          1201,
          1478,
          1163,
          1077,
          2133,
          1385,
          1476,
          1393,
          986,
          1413,
          1479,
          1532,
          1353,
          1642,
          1459,
          1361,
          3310,
          1787,
          4217,
          1634,
          1333,
          1446,
          1171,
          1237,
          1448,
          2002,
          2297,
          2398,
          1272,
          1209,
          1393,
          1690,
          1713,
          1079,
          1329,
          3756,
          3159,
          2228,
          1125,
          1557,
          1456,
          2635,
          1953,
          1177,
          1587,
          1653,
          3433,
          1152,
          1231,
          1460,
          824,
          2048,
          1124,
          2200,
          1411,
          1246,
          1206,
          1050,
          1824,
          2093,
          1999,
          1366,
          1059,
          1537,
          1400,
          1496,
          1115,
          1455,
          1449,
          949,
          1391,
          1170,
          1296,
          3525,
          2296,
          1527,
          2173,
          1408,
          975,
          1267,
          1265,
          1165,
          1996,
          2369,
          1542,
          2941,
          1460,
          1354,
          1465,
          2577,
          1064,
          1456,
          1037,
          3288,
          2428,
          3000,
          1467,
          1341,
          1649,
          1782,
          1310,
          1135,
          1502,
          946,
          1495,
          3478,
          2892,
          1496,
          1178,
          1184,
          1544,
          1367,
          1648,
          2518,
          1010,
          1527,
          1344,
          1660,
          1645,
          1278,
          1837,
          3133,
          1103,
          2305,
          1134,
          1118,
          1796,
          3240,
          1285,
          1567,
          2821,
          1406,
          1305,
          1058,
          1161,
          3970,
          2519,
          1227,
          1385,
          2847,
          861,
          2096,
          1293,
          2195,
          3073,
          1764,
          2078,
          3237,
          1118,
          4809,
          3400,
          3293,
          1573,
          1142,
          1495,
          2217,
          1615,
          1134,
          3033,
          1038,
          3925,
          2125,
          1447,
          1444,
          1805,
          4496,
          1416,
          2493,
          1323,
          3113,
          1274,
          1357,
          1649,
          1978,
          2259,
          1118,
          2408,
          1740,
          1498,
          2183,
          1316,
          1547,
          1300,
          1559,
          1446,
          2997,
          1772,
          955,
          2513,
          1358,
          4214,
          3577,
          1875,
          1012,
          1014,
          2164,
          1690,
          1590,
          1625,
          3091,
          1033,
          968,
          1960,
          1155,
          2205,
          1398,
          3026,
          1313,
          2696,
          3800,
          1845,
          1467,
          1302,
          1227,
          1074,
          1572,
          2296,
          1445,
          1257,
          1361,
          1337,
          1311,
          1032,
          953,
          1395,
          1832,
          2227,
          1376,
          1376,
          1842,
          2790,
          3414,
          2930,
          3291,
          2529,
          1105,
          1509,
          1640,
          1748,
          2604,
          1200,
          1184,
          1994,
          3605,
          5786,
          2766,
          1555,
          1392,
          3717,
          2820,
          1335,
          2987,
          1813,
          1643,
          2236,
          1183,
          1127,
          1225,
          1250,
          1343,
          1581,
          1496,
          1544
         ],
         "xaxis": "x",
         "yaxis": "y"
        },
        {
         "alignmentgroup": "True",
         "bingroup": "x",
         "hovertemplate": "labels=politics<br>text_len=%{x}<br>count=%{y}<extra></extra>",
         "legendgroup": "politics",
         "marker": {
          "color": "rgb(57, 105, 172)",
          "pattern": {
           "shape": ""
          }
         },
         "name": "politics",
         "offsetgroup": "politics",
         "orientation": "v",
         "showlegend": true,
         "type": "histogram",
         "x": [
          2597,
          2325,
          3108,
          1470,
          2859,
          2005,
          2987,
          3116,
          3197,
          1176,
          1646,
          2518,
          3269,
          2769,
          1014,
          1504,
          994,
          1614,
          3707,
          3314,
          2857,
          2520,
          2077,
          1498,
          1481,
          1461,
          4021,
          1419,
          2539,
          2283,
          2841,
          2105,
          2779,
          2646,
          1412,
          2357,
          1289,
          1929,
          3148,
          3419,
          3849,
          3198,
          1430,
          1335,
          1643,
          2563,
          2978,
          3268,
          2761,
          4126,
          2395,
          2612,
          3253,
          1453,
          3173,
          3107,
          1302,
          2243,
          3000,
          2498,
          1877,
          3456,
          1505,
          1852,
          2663,
          3094,
          3535,
          3387,
          2284,
          3156,
          1722,
          3154,
          2238,
          1267,
          2553,
          2487,
          1455,
          3978,
          2912,
          3102,
          2001,
          3102,
          1568,
          1554,
          3115,
          2381,
          3720,
          3301,
          3578,
          1730,
          1103,
          2449,
          1583,
          3009,
          2621,
          2136,
          2966,
          2130,
          2628,
          3531,
          3445,
          2687,
          2272,
          2846,
          3243,
          2907,
          2081,
          1060,
          1908,
          2843,
          5425,
          2170,
          1756,
          1772,
          3448,
          3019,
          1537,
          2496,
          2797,
          2254,
          3245,
          3392,
          958,
          3507,
          2213,
          2681,
          3624,
          3700,
          1377,
          2634,
          2160,
          1958,
          1684,
          2637,
          3512,
          2803,
          3513,
          2469,
          1844,
          1367,
          3152,
          3212,
          2603,
          1225,
          981,
          2249,
          2780,
          2661,
          2436,
          1454,
          2711,
          2845,
          2522,
          2872,
          2692,
          2551,
          2971,
          1574,
          3093,
          3134,
          1825,
          1926,
          1464,
          1784,
          2937,
          2157,
          2718,
          3771,
          2422,
          2705,
          1471,
          2461,
          2493,
          4109,
          2379,
          3203,
          2880,
          1284,
          2729,
          3070,
          2409,
          3387,
          2114,
          3367,
          2435,
          2671,
          2315,
          1227,
          3194,
          1589,
          1351,
          3513,
          3070,
          1627,
          1940,
          2603,
          1865,
          2812,
          2644,
          2568,
          1981,
          2709,
          2523,
          2600,
          2631,
          1447,
          1485,
          1792,
          2113,
          3055,
          3144,
          930,
          3527,
          2927,
          4059,
          2219,
          1684,
          3633,
          2931,
          2727,
          2958,
          1878,
          1917,
          3549,
          2388,
          1785,
          2917,
          1779,
          2919,
          2974,
          2438,
          1932,
          1996,
          3501,
          1033,
          962,
          956,
          2172,
          2482,
          2253,
          3389,
          2769,
          1219,
          2887,
          3017,
          3527,
          1579,
          1707,
          811,
          4333,
          3252,
          4439,
          3583,
          3353,
          3353,
          3568,
          4144,
          3084,
          3303,
          2894,
          4685,
          3530,
          2139,
          1836,
          4882,
          3166,
          1045,
          2946,
          3304,
          3180,
          2475,
          2153,
          2510,
          2778,
          1773,
          1930,
          2919,
          1920,
          2883,
          3428,
          2903,
          3741,
          2222,
          1939,
          2505,
          3875,
          1878,
          1930,
          1838,
          2610,
          2009,
          3051,
          2654,
          3536,
          955,
          3184,
          2203,
          1790,
          1141,
          1441,
          2272,
          2373,
          1575,
          4210,
          2525,
          2733,
          1844,
          2825,
          3275,
          2742,
          1491,
          3630,
          1786,
          2449,
          4255,
          3836,
          935,
          1478,
          2947,
          2556,
          2603,
          2558,
          2343,
          4560,
          3377,
          2603,
          3189,
          3451,
          966,
          3365,
          2021,
          2146,
          2846,
          2868,
          3842,
          2674,
          2912,
          5089,
          1717,
          2909,
          1997,
          1655,
          2938,
          3122,
          3426,
          2231,
          2411,
          2147,
          2993,
          2847,
          2968,
          2305,
          3325,
          2231,
          3080,
          4045,
          2384,
          4115,
          1483,
          1707,
          3424,
          2972,
          1055,
          3165,
          3111,
          3521,
          1960,
          2694,
          2636,
          3109,
          3474,
          3538,
          1059,
          1931,
          4450,
          2655,
          2898,
          4162,
          502,
          864,
          3297,
          3887,
          1487,
          1647,
          2860,
          1556,
          3247,
          5671,
          2710,
          3535,
          1666,
          1575,
          4897,
          1413,
          1151,
          3104,
          1507,
          1732,
          2835
         ],
         "xaxis": "x",
         "yaxis": "y"
        },
        {
         "alignmentgroup": "True",
         "bingroup": "x",
         "hovertemplate": "labels=sport<br>text_len=%{x}<br>count=%{y}<extra></extra>",
         "legendgroup": "sport",
         "marker": {
          "color": "rgb(242, 183, 1)",
          "pattern": {
           "shape": ""
          }
         },
         "name": "sport",
         "offsetgroup": "sport",
         "orientation": "v",
         "showlegend": true,
         "type": "histogram",
         "x": [
          1237,
          901,
          2044,
          1124,
          938,
          810,
          742,
          1286,
          2233,
          1439,
          1138,
          1299,
          1856,
          2795,
          881,
          1552,
          1548,
          1461,
          814,
          1563,
          1252,
          2541,
          1004,
          1638,
          939,
          990,
          1810,
          858,
          4254,
          839,
          1208,
          1584,
          5103,
          1899,
          1327,
          1634,
          2035,
          999,
          4280,
          1247,
          1286,
          3055,
          1535,
          1837,
          1170,
          1644,
          2619,
          2851,
          1570,
          1658,
          805,
          928,
          1838,
          1415,
          849,
          4391,
          4981,
          3639,
          2207,
          3883,
          1405,
          1613,
          1223,
          1566,
          4799,
          983,
          4022,
          4718,
          3711,
          1184,
          3131,
          1010,
          774,
          2898,
          1297,
          805,
          1000,
          1454,
          1311,
          2169,
          2373,
          769,
          786,
          1026,
          1074,
          2859,
          1701,
          1975,
          1851,
          858,
          4190,
          1263,
          3226,
          1454,
          2423,
          783,
          1373,
          2038,
          3638,
          2016,
          968,
          3687,
          3681,
          3412,
          2610,
          2965,
          2639,
          1217,
          2588,
          1406,
          1675,
          3564,
          831,
          1198,
          2748,
          1111,
          1756,
          1330,
          1718,
          1672,
          2311,
          910,
          1384,
          1396,
          778,
          1409,
          1388,
          1916,
          1797,
          991,
          881,
          1990,
          1370,
          3121,
          2234,
          884,
          2187,
          858,
          1168,
          1640,
          2822,
          1935,
          954,
          1520,
          1732,
          1270,
          2522,
          1299,
          1726,
          1709,
          1643,
          1703,
          2119,
          1379,
          3034,
          1044,
          825,
          3137,
          1224,
          1053,
          1832,
          770,
          1425,
          1579,
          2201,
          776,
          1772,
          850,
          984,
          787,
          1725,
          1563,
          1356,
          3628,
          3782,
          2911,
          2912,
          1673,
          1348,
          1348,
          1754,
          1186,
          1798,
          1720,
          1601,
          725,
          2324,
          1346,
          853,
          2239,
          1657,
          1819,
          1294,
          2651,
          1621,
          1530,
          1185,
          728,
          1351,
          2177,
          1371,
          2308,
          2498,
          1870,
          3399,
          1871,
          2419,
          1113,
          819,
          1559,
          3641,
          1877,
          4540,
          1546,
          761,
          1133,
          2206,
          2175,
          893,
          828,
          1397,
          2954,
          2295,
          863,
          1084,
          2463,
          2534,
          1995,
          1279,
          4435,
          1754,
          1181,
          1197,
          833,
          2999,
          1022,
          1375,
          2348,
          1338,
          1786,
          3343,
          1788,
          2027,
          720,
          1893,
          3327,
          1092,
          1877,
          2352,
          741,
          1538,
          1074,
          2805,
          874,
          764,
          943,
          1952,
          1209,
          900,
          1874,
          3458,
          2634,
          1462,
          956,
          1498,
          1586,
          2110,
          1413,
          1711,
          1180,
          2509,
          757,
          1095,
          1402,
          891,
          2674,
          2200,
          2258,
          1390,
          2107,
          1226,
          2140,
          2379,
          1970,
          1272,
          1957,
          2385,
          1537,
          942,
          1065,
          1091,
          2481,
          1736,
          1212,
          2869,
          2515,
          1337,
          938,
          1655,
          2039,
          3365,
          2227,
          2522,
          3550,
          4223,
          3328,
          2880,
          1641,
          1894,
          878,
          1517,
          786,
          2314,
          1327,
          2416,
          3010,
          937,
          812,
          1603,
          2524,
          2615,
          2626,
          2821,
          3031,
          2239,
          2423,
          1660,
          1283,
          2164,
          1928,
          2553,
          1826,
          2607,
          1240,
          1966,
          1537,
          2239,
          1698,
          1256,
          1769,
          1690,
          2132,
          1194,
          1380,
          1726,
          1539,
          2914,
          1701,
          901,
          1422,
          2660,
          2134,
          1347,
          1690,
          1291,
          1734,
          4517,
          2013,
          1934,
          2242,
          4333,
          1279,
          1871,
          1552,
          2513,
          1501,
          4418,
          2368,
          3759,
          2132,
          2430,
          2389,
          1321,
          2459,
          3415,
          2363,
          2920,
          1704,
          2922,
          984,
          1220,
          975,
          2951,
          1140,
          1016,
          1107,
          3847,
          1990,
          2373,
          1344,
          1701,
          1815,
          3633,
          1440,
          3428,
          3707,
          4256,
          2137,
          2775,
          2093,
          1936,
          1370,
          1834,
          3073,
          3965,
          2414,
          4222,
          1310,
          1112,
          1231,
          1761,
          1885,
          910,
          2311,
          1409,
          1796,
          1786,
          1136,
          1055,
          1206,
          1602,
          1590,
          1438,
          1801,
          1053,
          1692,
          1493,
          1437,
          1315,
          981,
          922,
          943,
          882,
          803,
          1578,
          2803,
          1749,
          2533,
          2742,
          1666,
          1220,
          894,
          924,
          812,
          1526,
          932,
          770,
          1219,
          1038,
          959,
          1766,
          1170,
          893,
          2377,
          1797,
          2334,
          785,
          2249,
          2413,
          2410,
          790,
          1987,
          2356,
          2196,
          1229,
          5273,
          1980,
          1292,
          1295,
          2698,
          1593,
          983,
          1954,
          1013,
          783,
          2379,
          1223,
          2096,
          2213,
          2222,
          1390,
          3366,
          1122,
          4006,
          1513,
          1419,
          759,
          1075,
          2359,
          770,
          1848,
          1586,
          756,
          784,
          756,
          1370,
          775,
          1148,
          1773,
          1173
         ],
         "xaxis": "x",
         "yaxis": "y"
        },
        {
         "alignmentgroup": "True",
         "bingroup": "x",
         "hovertemplate": "labels=tech<br>text_len=%{x}<br>count=%{y}<extra></extra>",
         "legendgroup": "tech",
         "marker": {
          "color": "rgb(231, 63, 116)",
          "pattern": {
           "shape": ""
          }
         },
         "name": "tech",
         "offsetgroup": "tech",
         "orientation": "v",
         "showlegend": true,
         "type": "histogram",
         "x": [
          4043,
          2207,
          1329,
          2577,
          4899,
          3930,
          1740,
          1734,
          2938,
          3374,
          1549,
          3072,
          1745,
          1700,
          3963,
          2950,
          2209,
          2875,
          2801,
          1988,
          1792,
          2341,
          1601,
          1053,
          2658,
          3129,
          2687,
          2259,
          1807,
          5219,
          5103,
          2094,
          3396,
          2556,
          1525,
          2074,
          1299,
          3243,
          2879,
          1545,
          2161,
          2130,
          1487,
          2105,
          1832,
          2235,
          2800,
          2551,
          2173,
          2574,
          2597,
          1533,
          1531,
          3527,
          1378,
          2026,
          3920,
          1733,
          2489,
          2481,
          3854,
          1944,
          3070,
          3563,
          2379,
          3270,
          1804,
          4172,
          5396,
          3344,
          2788,
          1676,
          2032,
          3719,
          2005,
          2637,
          1731,
          2866,
          2899,
          2892,
          2959,
          2310,
          2936,
          3840,
          2984,
          2187,
          4042,
          2224,
          2542,
          4391,
          5102,
          5145,
          1847,
          2777,
          2497,
          4319,
          2071,
          2071,
          4353,
          3581,
          2897,
          2533,
          3953,
          1942,
          3646,
          2199,
          5811,
          1748,
          1855,
          3356,
          2675,
          2503,
          1927,
          1734,
          1987,
          2209,
          3030,
          2202,
          4042,
          3484,
          2153,
          3864,
          1840,
          2083,
          1535,
          2526,
          2591,
          2454,
          1691,
          3316,
          3497,
          5050,
          1856,
          5490,
          3719,
          4351,
          2831,
          2284,
          4610,
          3038,
          4469,
          3060,
          2376,
          2451,
          2098,
          1381,
          2032,
          3751,
          2044,
          3282,
          5708,
          4611,
          4123,
          3163,
          2378,
          1845,
          5012,
          4206,
          5183,
          2197,
          2750,
          3291,
          1766,
          3244,
          2086,
          4526,
          5096,
          2439,
          2593,
          1564,
          1594,
          2122,
          4373,
          3291,
          2125,
          3790,
          3048,
          1914,
          3705,
          2320,
          3865,
          2175,
          3496,
          2613,
          2150,
          5089,
          4776,
          2297,
          2487,
          2888,
          2697,
          2275,
          2277,
          4021,
          1798,
          3713,
          1464,
          3180,
          3206,
          3619,
          3511,
          2292,
          4334,
          2479,
          3124,
          1935,
          3164,
          2143,
          4205,
          3098,
          1936,
          3632,
          2284,
          3833,
          5102,
          1945,
          2757,
          1356,
          3886,
          3931,
          2376,
          1430,
          1004,
          1349,
          3795,
          1419,
          1417,
          2846,
          2990,
          4152,
          2315,
          1640,
          1582,
          1995,
          2078,
          2730,
          2269,
          1580,
          1927,
          2784,
          1724,
          1630,
          2005,
          2503,
          2981,
          1293,
          2576,
          4679,
          2129,
          1985,
          3277,
          3458,
          2466,
          4283,
          1703,
          1647,
          2625,
          2233,
          2964,
          3241,
          3587,
          2755,
          2390,
          3350,
          4570,
          3378,
          4329,
          974,
          4418,
          4952,
          1944,
          4704,
          1930,
          4614,
          4693,
          5888,
          3979,
          4289,
          4054,
          4808,
          5291,
          3693,
          4737,
          2876,
          2498,
          3777,
          1952,
          2883,
          1529,
          5055,
          4442,
          4213,
          3853,
          2811,
          1490,
          2236,
          2046,
          1625,
          1516,
          2383,
          4209,
          2589,
          4792,
          2962,
          2201,
          1523,
          2921,
          5124,
          2448,
          3019,
          3113,
          5854,
          2323,
          4732,
          3042,
          2848,
          2467,
          5742,
          2407,
          4746,
          3019,
          2790,
          2323,
          3996,
          3859,
          1950,
          2995,
          3420,
          1792,
          4105,
          3835,
          1882,
          4520,
          3896,
          2146,
          4953,
          2036,
          4894,
          4913,
          2517,
          2314
         ],
         "xaxis": "x",
         "yaxis": "y"
        }
       ],
       "layout": {
        "barmode": "stack",
        "legend": {
         "title": {
          "text": "labels"
         },
         "tracegroupgap": 0
        },
        "template": {
         "data": {
          "bar": [
           {
            "error_x": {
             "color": "#2a3f5f"
            },
            "error_y": {
             "color": "#2a3f5f"
            },
            "marker": {
             "line": {
              "color": "#E5ECF6",
              "width": 0.5
             },
             "pattern": {
              "fillmode": "overlay",
              "size": 10,
              "solidity": 0.2
             }
            },
            "type": "bar"
           }
          ],
          "barpolar": [
           {
            "marker": {
             "line": {
              "color": "#E5ECF6",
              "width": 0.5
             },
             "pattern": {
              "fillmode": "overlay",
              "size": 10,
              "solidity": 0.2
             }
            },
            "type": "barpolar"
           }
          ],
          "carpet": [
           {
            "aaxis": {
             "endlinecolor": "#2a3f5f",
             "gridcolor": "white",
             "linecolor": "white",
             "minorgridcolor": "white",
             "startlinecolor": "#2a3f5f"
            },
            "baxis": {
             "endlinecolor": "#2a3f5f",
             "gridcolor": "white",
             "linecolor": "white",
             "minorgridcolor": "white",
             "startlinecolor": "#2a3f5f"
            },
            "type": "carpet"
           }
          ],
          "choropleth": [
           {
            "colorbar": {
             "outlinewidth": 0,
             "ticks": ""
            },
            "type": "choropleth"
           }
          ],
          "contour": [
           {
            "colorbar": {
             "outlinewidth": 0,
             "ticks": ""
            },
            "colorscale": [
             [
              0,
              "#0d0887"
             ],
             [
              0.1111111111111111,
              "#46039f"
             ],
             [
              0.2222222222222222,
              "#7201a8"
             ],
             [
              0.3333333333333333,
              "#9c179e"
             ],
             [
              0.4444444444444444,
              "#bd3786"
             ],
             [
              0.5555555555555556,
              "#d8576b"
             ],
             [
              0.6666666666666666,
              "#ed7953"
             ],
             [
              0.7777777777777778,
              "#fb9f3a"
             ],
             [
              0.8888888888888888,
              "#fdca26"
             ],
             [
              1,
              "#f0f921"
             ]
            ],
            "type": "contour"
           }
          ],
          "contourcarpet": [
           {
            "colorbar": {
             "outlinewidth": 0,
             "ticks": ""
            },
            "type": "contourcarpet"
           }
          ],
          "heatmap": [
           {
            "colorbar": {
             "outlinewidth": 0,
             "ticks": ""
            },
            "colorscale": [
             [
              0,
              "#0d0887"
             ],
             [
              0.1111111111111111,
              "#46039f"
             ],
             [
              0.2222222222222222,
              "#7201a8"
             ],
             [
              0.3333333333333333,
              "#9c179e"
             ],
             [
              0.4444444444444444,
              "#bd3786"
             ],
             [
              0.5555555555555556,
              "#d8576b"
             ],
             [
              0.6666666666666666,
              "#ed7953"
             ],
             [
              0.7777777777777778,
              "#fb9f3a"
             ],
             [
              0.8888888888888888,
              "#fdca26"
             ],
             [
              1,
              "#f0f921"
             ]
            ],
            "type": "heatmap"
           }
          ],
          "heatmapgl": [
           {
            "colorbar": {
             "outlinewidth": 0,
             "ticks": ""
            },
            "colorscale": [
             [
              0,
              "#0d0887"
             ],
             [
              0.1111111111111111,
              "#46039f"
             ],
             [
              0.2222222222222222,
              "#7201a8"
             ],
             [
              0.3333333333333333,
              "#9c179e"
             ],
             [
              0.4444444444444444,
              "#bd3786"
             ],
             [
              0.5555555555555556,
              "#d8576b"
             ],
             [
              0.6666666666666666,
              "#ed7953"
             ],
             [
              0.7777777777777778,
              "#fb9f3a"
             ],
             [
              0.8888888888888888,
              "#fdca26"
             ],
             [
              1,
              "#f0f921"
             ]
            ],
            "type": "heatmapgl"
           }
          ],
          "histogram": [
           {
            "marker": {
             "pattern": {
              "fillmode": "overlay",
              "size": 10,
              "solidity": 0.2
             }
            },
            "type": "histogram"
           }
          ],
          "histogram2d": [
           {
            "colorbar": {
             "outlinewidth": 0,
             "ticks": ""
            },
            "colorscale": [
             [
              0,
              "#0d0887"
             ],
             [
              0.1111111111111111,
              "#46039f"
             ],
             [
              0.2222222222222222,
              "#7201a8"
             ],
             [
              0.3333333333333333,
              "#9c179e"
             ],
             [
              0.4444444444444444,
              "#bd3786"
             ],
             [
              0.5555555555555556,
              "#d8576b"
             ],
             [
              0.6666666666666666,
              "#ed7953"
             ],
             [
              0.7777777777777778,
              "#fb9f3a"
             ],
             [
              0.8888888888888888,
              "#fdca26"
             ],
             [
              1,
              "#f0f921"
             ]
            ],
            "type": "histogram2d"
           }
          ],
          "histogram2dcontour": [
           {
            "colorbar": {
             "outlinewidth": 0,
             "ticks": ""
            },
            "colorscale": [
             [
              0,
              "#0d0887"
             ],
             [
              0.1111111111111111,
              "#46039f"
             ],
             [
              0.2222222222222222,
              "#7201a8"
             ],
             [
              0.3333333333333333,
              "#9c179e"
             ],
             [
              0.4444444444444444,
              "#bd3786"
             ],
             [
              0.5555555555555556,
              "#d8576b"
             ],
             [
              0.6666666666666666,
              "#ed7953"
             ],
             [
              0.7777777777777778,
              "#fb9f3a"
             ],
             [
              0.8888888888888888,
              "#fdca26"
             ],
             [
              1,
              "#f0f921"
             ]
            ],
            "type": "histogram2dcontour"
           }
          ],
          "mesh3d": [
           {
            "colorbar": {
             "outlinewidth": 0,
             "ticks": ""
            },
            "type": "mesh3d"
           }
          ],
          "parcoords": [
           {
            "line": {
             "colorbar": {
              "outlinewidth": 0,
              "ticks": ""
             }
            },
            "type": "parcoords"
           }
          ],
          "pie": [
           {
            "automargin": true,
            "type": "pie"
           }
          ],
          "scatter": [
           {
            "fillpattern": {
             "fillmode": "overlay",
             "size": 10,
             "solidity": 0.2
            },
            "type": "scatter"
           }
          ],
          "scatter3d": [
           {
            "line": {
             "colorbar": {
              "outlinewidth": 0,
              "ticks": ""
             }
            },
            "marker": {
             "colorbar": {
              "outlinewidth": 0,
              "ticks": ""
             }
            },
            "type": "scatter3d"
           }
          ],
          "scattercarpet": [
           {
            "marker": {
             "colorbar": {
              "outlinewidth": 0,
              "ticks": ""
             }
            },
            "type": "scattercarpet"
           }
          ],
          "scattergeo": [
           {
            "marker": {
             "colorbar": {
              "outlinewidth": 0,
              "ticks": ""
             }
            },
            "type": "scattergeo"
           }
          ],
          "scattergl": [
           {
            "marker": {
             "colorbar": {
              "outlinewidth": 0,
              "ticks": ""
             }
            },
            "type": "scattergl"
           }
          ],
          "scattermapbox": [
           {
            "marker": {
             "colorbar": {
              "outlinewidth": 0,
              "ticks": ""
             }
            },
            "type": "scattermapbox"
           }
          ],
          "scatterpolar": [
           {
            "marker": {
             "colorbar": {
              "outlinewidth": 0,
              "ticks": ""
             }
            },
            "type": "scatterpolar"
           }
          ],
          "scatterpolargl": [
           {
            "marker": {
             "colorbar": {
              "outlinewidth": 0,
              "ticks": ""
             }
            },
            "type": "scatterpolargl"
           }
          ],
          "scatterternary": [
           {
            "marker": {
             "colorbar": {
              "outlinewidth": 0,
              "ticks": ""
             }
            },
            "type": "scatterternary"
           }
          ],
          "surface": [
           {
            "colorbar": {
             "outlinewidth": 0,
             "ticks": ""
            },
            "colorscale": [
             [
              0,
              "#0d0887"
             ],
             [
              0.1111111111111111,
              "#46039f"
             ],
             [
              0.2222222222222222,
              "#7201a8"
             ],
             [
              0.3333333333333333,
              "#9c179e"
             ],
             [
              0.4444444444444444,
              "#bd3786"
             ],
             [
              0.5555555555555556,
              "#d8576b"
             ],
             [
              0.6666666666666666,
              "#ed7953"
             ],
             [
              0.7777777777777778,
              "#fb9f3a"
             ],
             [
              0.8888888888888888,
              "#fdca26"
             ],
             [
              1,
              "#f0f921"
             ]
            ],
            "type": "surface"
           }
          ],
          "table": [
           {
            "cells": {
             "fill": {
              "color": "#EBF0F8"
             },
             "line": {
              "color": "white"
             }
            },
            "header": {
             "fill": {
              "color": "#C8D4E3"
             },
             "line": {
              "color": "white"
             }
            },
            "type": "table"
           }
          ]
         },
         "layout": {
          "annotationdefaults": {
           "arrowcolor": "#2a3f5f",
           "arrowhead": 0,
           "arrowwidth": 1
          },
          "autotypenumbers": "strict",
          "coloraxis": {
           "colorbar": {
            "outlinewidth": 0,
            "ticks": ""
           }
          },
          "colorscale": {
           "diverging": [
            [
             0,
             "#8e0152"
            ],
            [
             0.1,
             "#c51b7d"
            ],
            [
             0.2,
             "#de77ae"
            ],
            [
             0.3,
             "#f1b6da"
            ],
            [
             0.4,
             "#fde0ef"
            ],
            [
             0.5,
             "#f7f7f7"
            ],
            [
             0.6,
             "#e6f5d0"
            ],
            [
             0.7,
             "#b8e186"
            ],
            [
             0.8,
             "#7fbc41"
            ],
            [
             0.9,
             "#4d9221"
            ],
            [
             1,
             "#276419"
            ]
           ],
           "sequential": [
            [
             0,
             "#0d0887"
            ],
            [
             0.1111111111111111,
             "#46039f"
            ],
            [
             0.2222222222222222,
             "#7201a8"
            ],
            [
             0.3333333333333333,
             "#9c179e"
            ],
            [
             0.4444444444444444,
             "#bd3786"
            ],
            [
             0.5555555555555556,
             "#d8576b"
            ],
            [
             0.6666666666666666,
             "#ed7953"
            ],
            [
             0.7777777777777778,
             "#fb9f3a"
            ],
            [
             0.8888888888888888,
             "#fdca26"
            ],
            [
             1,
             "#f0f921"
            ]
           ],
           "sequentialminus": [
            [
             0,
             "#0d0887"
            ],
            [
             0.1111111111111111,
             "#46039f"
            ],
            [
             0.2222222222222222,
             "#7201a8"
            ],
            [
             0.3333333333333333,
             "#9c179e"
            ],
            [
             0.4444444444444444,
             "#bd3786"
            ],
            [
             0.5555555555555556,
             "#d8576b"
            ],
            [
             0.6666666666666666,
             "#ed7953"
            ],
            [
             0.7777777777777778,
             "#fb9f3a"
            ],
            [
             0.8888888888888888,
             "#fdca26"
            ],
            [
             1,
             "#f0f921"
            ]
           ]
          },
          "colorway": [
           "#636efa",
           "#EF553B",
           "#00cc96",
           "#ab63fa",
           "#FFA15A",
           "#19d3f3",
           "#FF6692",
           "#B6E880",
           "#FF97FF",
           "#FECB52"
          ],
          "font": {
           "color": "#2a3f5f"
          },
          "geo": {
           "bgcolor": "white",
           "lakecolor": "white",
           "landcolor": "#E5ECF6",
           "showlakes": true,
           "showland": true,
           "subunitcolor": "white"
          },
          "hoverlabel": {
           "align": "left"
          },
          "hovermode": "closest",
          "mapbox": {
           "style": "light"
          },
          "paper_bgcolor": "white",
          "plot_bgcolor": "#E5ECF6",
          "polar": {
           "angularaxis": {
            "gridcolor": "white",
            "linecolor": "white",
            "ticks": ""
           },
           "bgcolor": "#E5ECF6",
           "radialaxis": {
            "gridcolor": "white",
            "linecolor": "white",
            "ticks": ""
           }
          },
          "scene": {
           "xaxis": {
            "backgroundcolor": "#E5ECF6",
            "gridcolor": "white",
            "gridwidth": 2,
            "linecolor": "white",
            "showbackground": true,
            "ticks": "",
            "zerolinecolor": "white"
           },
           "yaxis": {
            "backgroundcolor": "#E5ECF6",
            "gridcolor": "white",
            "gridwidth": 2,
            "linecolor": "white",
            "showbackground": true,
            "ticks": "",
            "zerolinecolor": "white"
           },
           "zaxis": {
            "backgroundcolor": "#E5ECF6",
            "gridcolor": "white",
            "gridwidth": 2,
            "linecolor": "white",
            "showbackground": true,
            "ticks": "",
            "zerolinecolor": "white"
           }
          },
          "shapedefaults": {
           "line": {
            "color": "#2a3f5f"
           }
          },
          "ternary": {
           "aaxis": {
            "gridcolor": "white",
            "linecolor": "white",
            "ticks": ""
           },
           "baxis": {
            "gridcolor": "white",
            "linecolor": "white",
            "ticks": ""
           },
           "bgcolor": "#E5ECF6",
           "caxis": {
            "gridcolor": "white",
            "linecolor": "white",
            "ticks": ""
           }
          },
          "title": {
           "x": 0.05
          },
          "xaxis": {
           "automargin": true,
           "gridcolor": "white",
           "linecolor": "white",
           "ticks": "",
           "title": {
            "standoff": 15
           },
           "zerolinecolor": "white",
           "zerolinewidth": 2
          },
          "yaxis": {
           "automargin": true,
           "gridcolor": "white",
           "linecolor": "white",
           "ticks": "",
           "title": {
            "standoff": 15
           },
           "zerolinecolor": "white",
           "zerolinewidth": 2
          }
         }
        },
        "title": {
         "text": "Text Length per Label"
        },
        "xaxis": {
         "anchor": "y",
         "domain": [
          0,
          1
         ],
         "title": {
          "text": "Text Length"
         }
        },
        "yaxis": {
         "anchor": "x",
         "domain": [
          0,
          1
         ],
         "title": {
          "text": "count"
         }
        }
       }
      }
     },
     "metadata": {},
     "output_type": "display_data"
    }
   ],
   "source": [
    "fig = px.histogram(df, x=\"text_len\", color=\"labels\", title=\"Text Length per Label\",\n",
    "                   barmode='stack', color_discrete_sequence=px.colors.qualitative.Bold)\n",
    "\n",
    "fig.update_layout(xaxis_title=\"Text Length\")\n",
    "fig.show()"
   ]
  },
  {
   "cell_type": "markdown",
   "metadata": {},
   "source": [
    "<div style=\"font-family: 'Arial', sans-serif; background-color: #f7f7f7; padding: 5px; border-radius: 8px;\">\n",
    "  <!-- Notebook Header Section -->\n",
    "  <div style=\"background-color: #b80000; color: white; padding: 10px; border-radius: 8px;\">\n",
    "    <h1 style=\"text-align: center; font-size: 2rem; font-weight: bold;\">🧮 Data Preprocessing</h1>\n",
    "  </div>\n",
    "</div>"
   ]
  },
  {
   "cell_type": "code",
   "execution_count": 61,
   "metadata": {
    "execution": {
     "iopub.execute_input": "2024-10-25T07:09:08.398988Z",
     "iopub.status.busy": "2024-10-25T07:09:08.398311Z",
     "iopub.status.idle": "2024-10-25T07:09:08.404767Z",
     "shell.execute_reply": "2024-10-25T07:09:08.403720Z",
     "shell.execute_reply.started": "2024-10-25T07:09:08.398942Z"
    },
    "trusted": true
   },
   "outputs": [],
   "source": [
    "encoder = LabelEncoder()\n",
    "\n",
    "df[\"labels\"] = encoder.fit_transform(df[\"labels\"])"
   ]
  },
  {
   "cell_type": "code",
   "execution_count": 62,
   "metadata": {
    "execution": {
     "iopub.execute_input": "2024-10-25T07:09:10.240951Z",
     "iopub.status.busy": "2024-10-25T07:09:10.240558Z",
     "iopub.status.idle": "2024-10-25T07:11:13.823159Z",
     "shell.execute_reply": "2024-10-25T07:11:13.822066Z",
     "shell.execute_reply.started": "2024-10-25T07:09:10.240911Z"
    },
    "trusted": true
   },
   "outputs": [],
   "source": [
    "nlp = spacy.load(\"en_core_web_sm\")\n",
    "\n",
    "def clean_text(text):\n",
    "    text = text.lower()\n",
    "\n",
    "    text = text.replace('\\n', ' ')\n",
    "    \n",
    "    text = re.sub(r'\\d+', ' ', text)\n",
    "\n",
    "    text = text.translate(str.maketrans(' ', ' ', string.punctuation))\n",
    "    \n",
    "    text = re.sub(r'\\s+', ' ', text, flags=re.I)\n",
    "\n",
    "    doc = nlp(text)\n",
    "    \n",
    "    cleaned_tokens = []\n",
    "    for token in doc:\n",
    "        if token.text not in STOP_WORDS and not token.is_punct and not token.is_space:\n",
    "            cleaned_tokens.append(token.lemma_)\n",
    "\n",
    "    cleaned_tokens = ' '.join(cleaned_tokens)\n",
    "    \n",
    "    return cleaned_tokens\n",
    "\n",
    "df[\"text\"] = df[\"text\"].apply(clean_text)"
   ]
  },
  {
   "cell_type": "code",
   "execution_count": 63,
   "metadata": {
    "execution": {
     "iopub.execute_input": "2024-10-25T07:11:13.825649Z",
     "iopub.status.busy": "2024-10-25T07:11:13.825188Z",
     "iopub.status.idle": "2024-10-25T07:11:13.858364Z",
     "shell.execute_reply": "2024-10-25T07:11:13.857487Z",
     "shell.execute_reply.started": "2024-10-25T07:11:13.825604Z"
    },
    "trusted": true
   },
   "outputs": [
    {
     "data": {
      "text/plain": [
       "{'train': ['text', 'labels', '__index_level_0__'],\n",
       " 'test': ['text', 'labels', '__index_level_0__']}"
      ]
     },
     "execution_count": 63,
     "metadata": {},
     "output_type": "execute_result"
    }
   ],
   "source": [
    "dataset = df[[\"text\", \"labels\"]]\n",
    "dataset = datasets.Dataset.from_pandas(dataset)\n",
    "dataset = dataset.train_test_split(0.2)\n",
    "dataset.column_names"
   ]
  },
  {
   "cell_type": "code",
   "execution_count": 64,
   "metadata": {
    "execution": {
     "iopub.execute_input": "2024-10-25T07:11:37.155261Z",
     "iopub.status.busy": "2024-10-25T07:11:37.154375Z",
     "iopub.status.idle": "2024-10-25T07:11:38.399967Z",
     "shell.execute_reply": "2024-10-25T07:11:38.399106Z",
     "shell.execute_reply.started": "2024-10-25T07:11:37.155218Z"
    },
    "trusted": true
   },
   "outputs": [
    {
     "data": {
      "application/vnd.jupyter.widget-view+json": {
       "model_id": "d005a461f2ca401584ad2b19c0bc2e46",
       "version_major": 2,
       "version_minor": 0
      },
      "text/plain": [
       "Map:   0%|          | 0/1685 [00:00<?, ? examples/s]"
      ]
     },
     "metadata": {},
     "output_type": "display_data"
    },
    {
     "data": {
      "application/vnd.jupyter.widget-view+json": {
       "model_id": "546463bb0ea0404e942db925765a1be3",
       "version_major": 2,
       "version_minor": 0
      },
      "text/plain": [
       "Map:   0%|          | 0/422 [00:00<?, ? examples/s]"
      ]
     },
     "metadata": {},
     "output_type": "display_data"
    }
   ],
   "source": [
    "tokenizer = AutoTokenizer.from_pretrained(\"bert-base-uncased\")\n",
    "\n",
    "def preprocess_function(row):\n",
    "    return tokenizer(row[\"text\"], truncation=True, max_length=512)\n",
    "\n",
    "dataset = dataset.map(preprocess_function, batched=True)"
   ]
  },
  {
   "cell_type": "markdown",
   "metadata": {},
   "source": [
    "<div style=\"font-family: 'Arial', sans-serif; background-color: #f7f7f7; padding: 5px; border-radius: 8px;\">\n",
    "  <!-- Notebook Header Section -->\n",
    "  <div style=\"background-color: #b80000; color: white; padding: 10px; border-radius: 8px;\">\n",
    "    <h1 style=\"text-align: center; font-size: 2rem; font-weight: bold;\">🏛️ Model Building</h1>\n",
    "  </div>\n",
    "</div>"
   ]
  },
  {
   "cell_type": "code",
   "execution_count": 65,
   "metadata": {
    "execution": {
     "iopub.execute_input": "2024-10-25T07:11:45.175704Z",
     "iopub.status.busy": "2024-10-25T07:11:45.174808Z",
     "iopub.status.idle": "2024-10-25T07:11:48.125061Z",
     "shell.execute_reply": "2024-10-25T07:11:48.124256Z",
     "shell.execute_reply.started": "2024-10-25T07:11:45.175659Z"
    },
    "trusted": true
   },
   "outputs": [
    {
     "data": {
      "application/vnd.jupyter.widget-view+json": {
       "model_id": "e5bacc474af34f4facc80a76ed7cc7b8",
       "version_major": 2,
       "version_minor": 0
      },
      "text/plain": [
       "Downloading builder script:   0%|          | 0.00/4.20k [00:00<?, ?B/s]"
      ]
     },
     "metadata": {},
     "output_type": "display_data"
    },
    {
     "data": {
      "application/vnd.jupyter.widget-view+json": {
       "model_id": "ee07c807a43b462d85083339fa7d5ca0",
       "version_major": 2,
       "version_minor": 0
      },
      "text/plain": [
       "model.safetensors:   0%|          | 0.00/440M [00:00<?, ?B/s]"
      ]
     },
     "metadata": {},
     "output_type": "display_data"
    },
    {
     "name": "stderr",
     "output_type": "stream",
     "text": [
      "Some weights of BertForSequenceClassification were not initialized from the model checkpoint at bert-base-uncased and are newly initialized: ['classifier.bias', 'classifier.weight']\n",
      "You should probably TRAIN this model on a down-stream task to be able to use it for predictions and inference.\n"
     ]
    }
   ],
   "source": [
    "data_collator = DataCollatorWithPadding(tokenizer=tokenizer)\n",
    "\n",
    "accuracy = evaluate.load(\"accuracy\")\n",
    "\n",
    "def compute_metrics(p):\n",
    "    predictions, labels = p\n",
    "    predictions = np.argmax(predictions, axis=1)\n",
    "    return {\"accuracy\": accuracy.compute(predictions=predictions, references=labels)}\n",
    "\n",
    "\n",
    "model = AutoModelForSequenceClassification.from_pretrained(\"bert-base-uncased\", num_labels=5)\n",
    "\n",
    "peft_config = LoraConfig(\n",
    "    task_type=\"SEQ_CLS\",\n",
    "    r=4,\n",
    "    lora_alpha=32,\n",
    "    lora_dropout=0.01,\n",
    "    target_modules = [\"query\"],\n",
    ")\n",
    "\n",
    "model = get_peft_model(model, peft_config)"
   ]
  },
  {
   "cell_type": "code",
   "execution_count": 66,
   "metadata": {
    "execution": {
     "iopub.execute_input": "2024-10-25T07:11:53.812157Z",
     "iopub.status.busy": "2024-10-25T07:11:53.811767Z",
     "iopub.status.idle": "2024-10-25T07:23:12.926511Z",
     "shell.execute_reply": "2024-10-25T07:23:12.925584Z",
     "shell.execute_reply.started": "2024-10-25T07:11:53.812119Z"
    },
    "trusted": true
   },
   "outputs": [
    {
     "name": "stderr",
     "output_type": "stream",
     "text": [
      "\u001b[34m\u001b[1mwandb\u001b[0m: \u001b[33mWARNING\u001b[0m The `run_name` is currently set to the same value as `TrainingArguments.output_dir`. If this was not intended, please specify a different run name by setting the `TrainingArguments.run_name` parameter.\n",
      "\u001b[34m\u001b[1mwandb\u001b[0m: Using wandb-core as the SDK backend. Please refer to https://wandb.me/wandb-core for more information.\n",
      "\u001b[34m\u001b[1mwandb\u001b[0m: Logging into wandb.ai. (Learn how to deploy a W&B server locally: https://wandb.me/wandb-server)\n",
      "\u001b[34m\u001b[1mwandb\u001b[0m: You can find your API key in your browser here: https://wandb.ai/authorize\n",
      "\u001b[34m\u001b[1mwandb\u001b[0m: Paste an API key from your profile and hit enter, or press ctrl+c to quit:"
     ]
    },
    {
     "name": "stdout",
     "output_type": "stream",
     "text": [
      "  ········································\n"
     ]
    },
    {
     "name": "stderr",
     "output_type": "stream",
     "text": [
      "\u001b[34m\u001b[1mwandb\u001b[0m: Appending key for api.wandb.ai to your netrc file: /root/.netrc\n"
     ]
    },
    {
     "data": {
      "application/vnd.jupyter.widget-view+json": {
       "model_id": "b26c58c2166a4294a2974bd8d03745cc",
       "version_major": 2,
       "version_minor": 0
      },
      "text/plain": [
       "VBox(children=(Label(value='Waiting for wandb.init()...\\r'), FloatProgress(value=0.011112670677776906, max=1.0…"
      ]
     },
     "metadata": {},
     "output_type": "display_data"
    },
    {
     "data": {
      "text/html": [
       "Tracking run with wandb version 0.18.3"
      ],
      "text/plain": [
       "<IPython.core.display.HTML object>"
      ]
     },
     "metadata": {},
     "output_type": "display_data"
    },
    {
     "data": {
      "text/html": [
       "Run data is saved locally in <code>/kaggle/working/wandb/run-20241025_071223-3s8ce13b</code>"
      ],
      "text/plain": [
       "<IPython.core.display.HTML object>"
      ]
     },
     "metadata": {},
     "output_type": "display_data"
    },
    {
     "data": {
      "text/html": [
       "Syncing run <strong><a href='https://wandb.ai/ah8081189-instagram/huggingface/runs/3s8ce13b' target=\"_blank\">./bbc_articles_detection_model</a></strong> to <a href='https://wandb.ai/ah8081189-instagram/huggingface' target=\"_blank\">Weights & Biases</a> (<a href='https://wandb.me/run' target=\"_blank\">docs</a>)<br/>"
      ],
      "text/plain": [
       "<IPython.core.display.HTML object>"
      ]
     },
     "metadata": {},
     "output_type": "display_data"
    },
    {
     "data": {
      "text/html": [
       " View project at <a href='https://wandb.ai/ah8081189-instagram/huggingface' target=\"_blank\">https://wandb.ai/ah8081189-instagram/huggingface</a>"
      ],
      "text/plain": [
       "<IPython.core.display.HTML object>"
      ]
     },
     "metadata": {},
     "output_type": "display_data"
    },
    {
     "data": {
      "text/html": [
       " View run at <a href='https://wandb.ai/ah8081189-instagram/huggingface/runs/3s8ce13b' target=\"_blank\">https://wandb.ai/ah8081189-instagram/huggingface/runs/3s8ce13b</a>"
      ],
      "text/plain": [
       "<IPython.core.display.HTML object>"
      ]
     },
     "metadata": {},
     "output_type": "display_data"
    },
    {
     "data": {
      "text/html": [
       "\n",
       "    <div>\n",
       "      \n",
       "      <progress value='530' max='530' style='width:300px; height:20px; vertical-align: middle;'></progress>\n",
       "      [530/530 10:43, Epoch 10/10]\n",
       "    </div>\n",
       "    <table border=\"1\" class=\"dataframe\">\n",
       "  <thead>\n",
       " <tr style=\"text-align: left;\">\n",
       "      <th>Epoch</th>\n",
       "      <th>Training Loss</th>\n",
       "      <th>Validation Loss</th>\n",
       "      <th>Accuracy</th>\n",
       "    </tr>\n",
       "  </thead>\n",
       "  <tbody>\n",
       "    <tr>\n",
       "      <td>1</td>\n",
       "      <td>No log</td>\n",
       "      <td>0.169621</td>\n",
       "      <td>{'accuracy': 0.966824644549763}</td>\n",
       "    </tr>\n",
       "    <tr>\n",
       "      <td>2</td>\n",
       "      <td>No log</td>\n",
       "      <td>0.075394</td>\n",
       "      <td>{'accuracy': 0.9786729857819905}</td>\n",
       "    </tr>\n",
       "    <tr>\n",
       "      <td>3</td>\n",
       "      <td>No log</td>\n",
       "      <td>0.076638</td>\n",
       "      <td>{'accuracy': 0.9834123222748815}</td>\n",
       "    </tr>\n",
       "    <tr>\n",
       "      <td>4</td>\n",
       "      <td>No log</td>\n",
       "      <td>0.052730</td>\n",
       "      <td>{'accuracy': 0.990521327014218}</td>\n",
       "    </tr>\n",
       "    <tr>\n",
       "      <td>5</td>\n",
       "      <td>No log</td>\n",
       "      <td>0.087445</td>\n",
       "      <td>{'accuracy': 0.9834123222748815}</td>\n",
       "    </tr>\n",
       "    <tr>\n",
       "      <td>6</td>\n",
       "      <td>No log</td>\n",
       "      <td>0.067588</td>\n",
       "      <td>{'accuracy': 0.985781990521327}</td>\n",
       "    </tr>\n",
       "    <tr>\n",
       "      <td>7</td>\n",
       "      <td>No log</td>\n",
       "      <td>0.078095</td>\n",
       "      <td>{'accuracy': 0.985781990521327}</td>\n",
       "    </tr>\n",
       "    <tr>\n",
       "      <td>8</td>\n",
       "      <td>No log</td>\n",
       "      <td>0.073315</td>\n",
       "      <td>{'accuracy': 0.990521327014218}</td>\n",
       "    </tr>\n",
       "    <tr>\n",
       "      <td>9</td>\n",
       "      <td>No log</td>\n",
       "      <td>0.076849</td>\n",
       "      <td>{'accuracy': 0.990521327014218}</td>\n",
       "    </tr>\n",
       "    <tr>\n",
       "      <td>10</td>\n",
       "      <td>0.133600</td>\n",
       "      <td>0.076888</td>\n",
       "      <td>{'accuracy': 0.990521327014218}</td>\n",
       "    </tr>\n",
       "  </tbody>\n",
       "</table><p>"
      ],
      "text/plain": [
       "<IPython.core.display.HTML object>"
      ]
     },
     "metadata": {},
     "output_type": "display_data"
    },
    {
     "name": "stderr",
     "output_type": "stream",
     "text": [
      "Trainer is attempting to log a value of \"{'accuracy': 0.966824644549763}\" of type <class 'dict'> for key \"eval/accuracy\" as a scalar. This invocation of Tensorboard's writer.add_scalar() is incorrect so we dropped this attribute.\n",
      "Trainer is attempting to log a value of \"{'accuracy': 0.9786729857819905}\" of type <class 'dict'> for key \"eval/accuracy\" as a scalar. This invocation of Tensorboard's writer.add_scalar() is incorrect so we dropped this attribute.\n",
      "Trainer is attempting to log a value of \"{'accuracy': 0.9834123222748815}\" of type <class 'dict'> for key \"eval/accuracy\" as a scalar. This invocation of Tensorboard's writer.add_scalar() is incorrect so we dropped this attribute.\n",
      "Trainer is attempting to log a value of \"{'accuracy': 0.990521327014218}\" of type <class 'dict'> for key \"eval/accuracy\" as a scalar. This invocation of Tensorboard's writer.add_scalar() is incorrect so we dropped this attribute.\n",
      "Trainer is attempting to log a value of \"{'accuracy': 0.9834123222748815}\" of type <class 'dict'> for key \"eval/accuracy\" as a scalar. This invocation of Tensorboard's writer.add_scalar() is incorrect so we dropped this attribute.\n",
      "Trainer is attempting to log a value of \"{'accuracy': 0.985781990521327}\" of type <class 'dict'> for key \"eval/accuracy\" as a scalar. This invocation of Tensorboard's writer.add_scalar() is incorrect so we dropped this attribute.\n",
      "Trainer is attempting to log a value of \"{'accuracy': 0.985781990521327}\" of type <class 'dict'> for key \"eval/accuracy\" as a scalar. This invocation of Tensorboard's writer.add_scalar() is incorrect so we dropped this attribute.\n",
      "Trainer is attempting to log a value of \"{'accuracy': 0.990521327014218}\" of type <class 'dict'> for key \"eval/accuracy\" as a scalar. This invocation of Tensorboard's writer.add_scalar() is incorrect so we dropped this attribute.\n",
      "Trainer is attempting to log a value of \"{'accuracy': 0.990521327014218}\" of type <class 'dict'> for key \"eval/accuracy\" as a scalar. This invocation of Tensorboard's writer.add_scalar() is incorrect so we dropped this attribute.\n",
      "Trainer is attempting to log a value of \"{'accuracy': 0.990521327014218}\" of type <class 'dict'> for key \"eval/accuracy\" as a scalar. This invocation of Tensorboard's writer.add_scalar() is incorrect so we dropped this attribute.\n"
     ]
    },
    {
     "data": {
      "text/plain": [
       "TrainOutput(global_step=530, training_loss=0.12635043446185454, metrics={'train_runtime': 676.8118, 'train_samples_per_second': 24.896, 'train_steps_per_second': 0.783, 'total_flos': 4027051837747500.0, 'train_loss': 0.12635043446185454, 'epoch': 10.0})"
      ]
     },
     "execution_count": 66,
     "metadata": {},
     "output_type": "execute_result"
    }
   ],
   "source": [
    "training_args = TrainingArguments(\n",
    "    output_dir=\"./bbc_articles_detection_model\",\n",
    "    evaluation_strategy=\"epoch\",\n",
    "    learning_rate=1e-3,\n",
    "    per_device_train_batch_size=16,\n",
    "    per_device_eval_batch_size=16,\n",
    "    num_train_epochs=10,\n",
    "    weight_decay=0.01,\n",
    ")\n",
    "\n",
    "trainer = Trainer(\n",
    "    model=model,\n",
    "    args=training_args,\n",
    "    train_dataset=dataset[\"train\"],\n",
    "    eval_dataset=dataset[\"test\"],\n",
    "    data_collator=data_collator,\n",
    "    tokenizer=tokenizer,\n",
    "    compute_metrics=compute_metrics,\n",
    ")\n",
    "\n",
    "trainer.train()"
   ]
  },
  {
   "cell_type": "markdown",
   "metadata": {},
   "source": [
    "<div style=\"font-family: 'Arial', sans-serif; background-color: #f7f7f7; padding: 5px; border-radius: 8px;\">\n",
    "  <!-- Notebook Header Section -->\n",
    "  <div style=\"background-color: #b80000; color: white; padding: 10px; border-radius: 8px;\">\n",
    "    <h1 style=\"text-align: center; font-size: 2rem; font-weight: bold;\">📋 Evaluation</h1>\n",
    "  </div>\n",
    "</div>"
   ]
  },
  {
   "cell_type": "code",
   "execution_count": 67,
   "metadata": {
    "execution": {
     "iopub.execute_input": "2024-10-25T07:23:18.974834Z",
     "iopub.status.busy": "2024-10-25T07:23:18.974110Z",
     "iopub.status.idle": "2024-10-25T07:23:25.677631Z",
     "shell.execute_reply": "2024-10-25T07:23:25.676722Z",
     "shell.execute_reply.started": "2024-10-25T07:23:18.974788Z"
    },
    "trusted": true
   },
   "outputs": [
    {
     "data": {
      "text/html": [],
      "text/plain": [
       "<IPython.core.display.HTML object>"
      ]
     },
     "metadata": {},
     "output_type": "display_data"
    },
    {
     "name": "stderr",
     "output_type": "stream",
     "text": [
      "Trainer is attempting to log a value of \"{'accuracy': 0.990521327014218}\" of type <class 'dict'> for key \"eval/accuracy\" as a scalar. This invocation of Tensorboard's writer.add_scalar() is incorrect so we dropped this attribute.\n"
     ]
    },
    {
     "name": "stdout",
     "output_type": "stream",
     "text": [
      "{'eval_loss': 0.07688762247562408, 'eval_accuracy': {'accuracy': 0.990521327014218}, 'eval_runtime': 6.689, 'eval_samples_per_second': 63.089, 'eval_steps_per_second': 2.093, 'epoch': 10.0}\n"
     ]
    }
   ],
   "source": [
    "results = trainer.evaluate()\n",
    "print(results)"
   ]
  },
  {
   "cell_type": "code",
   "execution_count": 68,
   "metadata": {
    "execution": {
     "iopub.execute_input": "2024-10-25T07:23:34.904836Z",
     "iopub.status.busy": "2024-10-25T07:23:34.904432Z",
     "iopub.status.idle": "2024-10-25T07:23:41.616677Z",
     "shell.execute_reply": "2024-10-25T07:23:41.615802Z",
     "shell.execute_reply.started": "2024-10-25T07:23:34.904784Z"
    },
    "trusted": true
   },
   "outputs": [
    {
     "name": "stdout",
     "output_type": "stream",
     "text": [
      "Test Accuracy: 0.990521327014218\n"
     ]
    }
   ],
   "source": [
    "predictions = trainer.predict(dataset['test'])\n",
    "\n",
    "preds = predictions.predictions.argmax(axis=-1)\n",
    "labels = predictions.label_ids\n",
    "\n",
    "accuracy = accuracy_score(labels, preds)\n",
    "print(f\"Test Accuracy: {accuracy}\")"
   ]
  },
  {
   "cell_type": "code",
   "execution_count": 69,
   "metadata": {
    "execution": {
     "iopub.execute_input": "2024-10-25T07:23:48.345460Z",
     "iopub.status.busy": "2024-10-25T07:23:48.345000Z",
     "iopub.status.idle": "2024-10-25T07:23:48.362506Z",
     "shell.execute_reply": "2024-10-25T07:23:48.361357Z",
     "shell.execute_reply.started": "2024-10-25T07:23:48.345419Z"
    },
    "trusted": true
   },
   "outputs": [
    {
     "name": "stdout",
     "output_type": "stream",
     "text": [
      "              precision    recall  f1-score   support\n",
      "\n",
      "           0       0.99      0.98      0.99       104\n",
      "           1       0.99      0.99      0.99        74\n",
      "           2       0.99      1.00      0.99        78\n",
      "           3       0.99      0.99      0.99        98\n",
      "           4       1.00      1.00      1.00        68\n",
      "\n",
      "    accuracy                           0.99       422\n",
      "   macro avg       0.99      0.99      0.99       422\n",
      "weighted avg       0.99      0.99      0.99       422\n",
      "\n"
     ]
    }
   ],
   "source": [
    "print(classification_report(labels, preds))"
   ]
  },
  {
   "cell_type": "code",
   "execution_count": 70,
   "metadata": {
    "execution": {
     "iopub.execute_input": "2024-10-25T07:23:56.096502Z",
     "iopub.status.busy": "2024-10-25T07:23:56.096109Z",
     "iopub.status.idle": "2024-10-25T07:23:56.392007Z",
     "shell.execute_reply": "2024-10-25T07:23:56.391113Z",
     "shell.execute_reply.started": "2024-10-25T07:23:56.096464Z"
    },
    "trusted": true
   },
   "outputs": [
    {
     "data": {
      "image/png": "[encoded data removed]",
      "text/plain": [
       "<Figure size 1000x600 with 2 Axes>"
      ]
     },
     "metadata": {},
     "output_type": "display_data"
    }
   ],
   "source": [
    "cm = confusion_matrix(labels, preds)\n",
    "\n",
    "plt.figure(figsize=(10, 6))\n",
    "sns.heatmap(cm, annot=True, fmt=\"d\", cmap=\"viridis\")\n",
    "plt.title(\"Confusion Matrix\")\n",
    "plt.show()"
   ]
  },
  {
   "cell_type": "markdown",
   "metadata": {},
   "source": [
    "<div style=\"font-family: 'Arial', sans-serif; background-color: #f7f7f7; padding: 5px; border-radius: 8px;\">\n",
    "  <!-- Notebook Header Section -->\n",
    "  <div style=\"background-color: #b80000; color: white; padding: 10px; border-radius: 8px;\">\n",
    "    <h1 style=\"text-align: center; font-size: 2rem; font-weight: bold;\">📋 Save the Model</h1>\n",
    "  </div>\n",
    "</div>"
   ]
  },
  {
   "cell_type": "code",
   "execution_count": 71,
   "metadata": {
    "execution": {
     "iopub.execute_input": "2024-10-25T07:27:32.146020Z",
     "iopub.status.busy": "2024-10-25T07:27:32.145372Z",
     "iopub.status.idle": "2024-10-25T07:27:32.368442Z",
     "shell.execute_reply": "2024-10-25T07:27:32.367594Z",
     "shell.execute_reply.started": "2024-10-25T07:27:32.145981Z"
    },
    "trusted": true
   },
   "outputs": [
    {
     "name": "stdout",
     "output_type": "stream",
     "text": [
      "Model and tokenizer saved to ./Model\n"
     ]
    }
   ],
   "source": [
    "save_directory = \"./Model\"\n",
    "\n",
    "tokenizer.save_pretrained(save_directory)\n",
    "model.save_pretrained(save_directory)\n",
    "\n",
    "print(f\"Model and tokenizer saved to {save_directory}\")"
   ]
  }
 ],
 "metadata": {
  "kaggle": {
   "accelerator": "nvidiaTeslaT4",
   "dataSources": [
    {
     "datasetId": 5854585,
     "sourceId": 9597385,
     "sourceType": "datasetVersion"
    }
   ],
   "dockerImageVersionId": 30787,
   "isGpuEnabled": true,
   "isInternetEnabled": true,
   "language": "python",
   "sourceType": "notebook"
  },
  "kernelspec": {
   "display_name": "bbc_articles_category_detection",
   "language": "python",
   "name": "python3"
  },
  "language_info": {
   "codemirror_mode": {
    "name": "ipython",
    "version": 3
   },
   "file_extension": ".py",
   "mimetype": "text/x-python",
   "name": "python",
   "nbconvert_exporter": "python",
   "pygments_lexer": "ipython3",
   "version": "3.10.14"
  }
 },
 "nbformat": 4,
 "nbformat_minor": 4
}
